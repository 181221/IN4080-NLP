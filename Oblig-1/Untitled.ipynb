{
 "cells": [
  {
   "cell_type": "code",
   "execution_count": 33,
   "metadata": {},
   "outputs": [],
   "source": [
    "import nltk\n",
    "from nltk.corpus import brown"
   ]
  },
  {
   "cell_type": "code",
   "execution_count": 34,
   "metadata": {},
   "outputs": [
    {
     "name": "stdout",
     "output_type": "stream",
     "text": [
      "  he  her  she  him \n",
      "9548 3036 2860 2619 \n"
     ]
    }
   ],
   "source": [
    "labels = ['he', 'him', 'she','her']\n",
    "brown_freq = nltk.FreqDist([w.lower() for w in brown.words() if w.lower() in labels])\n",
    "brown_freq.tabulate()"
   ]
  },
  {
   "cell_type": "code",
   "execution_count": 35,
   "metadata": {},
   "outputs": [],
   "source": [
    "cond = nltk.ConditionalFreqDist([(genre, word.lower()) \n",
    "                                 for genre in ['news','fiction','religion','government','romance']\n",
    "                                 for word in brown.words(categories=genre) \n",
    "                                 if word.lower() in labels])"
   ]
  },
  {
   "cell_type": "code",
   "execution_count": 39,
   "metadata": {},
   "outputs": [
    {
     "name": "stdout",
     "output_type": "stream",
     "text": [
      "             he  her  him  she \n",
      "   fiction 1308  413  382  425 \n",
      "government  169    3   26    1 \n",
      "      news  642  121   93   77 \n",
      "  religion  206    8   94   12 \n",
      "   romance 1068  680  340  728 \n"
     ]
    }
   ],
   "source": [
    "cond.tabulate()\n"
   ]
  },
  {
   "cell_type": "code",
   "execution_count": null,
   "metadata": {},
   "outputs": [],
   "source": [
    "%matplotlib inline\n",
    "cond.plot()"
   ]
  },
  {
   "cell_type": "code",
   "execution_count": null,
   "metadata": {},
   "outputs": [],
   "source": []
  },
  {
   "cell_type": "code",
   "execution_count": null,
   "metadata": {},
   "outputs": [],
   "source": []
  },
  {
   "cell_type": "code",
   "execution_count": null,
   "metadata": {},
   "outputs": [],
   "source": []
  }
 ],
 "metadata": {
  "kernelspec": {
   "display_name": "Python [conda env:IN4080] *",
   "language": "python",
   "name": "conda-env-IN4080-py"
  },
  "language_info": {
   "codemirror_mode": {
    "name": "ipython",
    "version": 3
   },
   "file_extension": ".py",
   "mimetype": "text/x-python",
   "name": "python",
   "nbconvert_exporter": "python",
   "pygments_lexer": "ipython3",
   "version": "3.7.4"
  }
 },
 "nbformat": 4,
 "nbformat_minor": 2
}
