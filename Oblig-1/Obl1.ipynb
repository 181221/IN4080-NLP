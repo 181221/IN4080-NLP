{
 "cells": [
  {
   "cell_type": "markdown",
   "metadata": {},
   "source": [
    "## Oblig 1 in NLP \n",
    "### Exercise 1"
   ]
  },
  {
   "cell_type": "code",
   "execution_count": 1,
   "metadata": {},
   "outputs": [],
   "source": [
    "import nltk\n",
    "from nltk.corpus import brown\n",
    "import pandas as pd\n",
    "from nltk import pos_tag"
   ]
  },
  {
   "cell_type": "code",
   "execution_count": 2,
   "metadata": {},
   "outputs": [],
   "source": [
    "labels = ['he', 'him', 'she','her']\n",
    "genres = ['news','fiction','religion','government','romance']"
   ]
  },
  {
   "cell_type": "code",
   "execution_count": 3,
   "metadata": {},
   "outputs": [
    {
     "name": "stdout",
     "output_type": "stream",
     "text": [
      "6796\n"
     ]
    },
    {
     "data": {
      "text/html": [
       "<div>\n",
       "<style scoped>\n",
       "    .dataframe tbody tr th:only-of-type {\n",
       "        vertical-align: middle;\n",
       "    }\n",
       "\n",
       "    .dataframe tbody tr th {\n",
       "        vertical-align: top;\n",
       "    }\n",
       "\n",
       "    .dataframe thead th {\n",
       "        text-align: right;\n",
       "    }\n",
       "</style>\n",
       "<table border=\"1\" class=\"dataframe\">\n",
       "  <thead>\n",
       "    <tr style=\"text-align: right;\">\n",
       "      <th></th>\n",
       "      <th>news</th>\n",
       "      <th>fiction</th>\n",
       "      <th>religion</th>\n",
       "      <th>government</th>\n",
       "      <th>romance</th>\n",
       "      <th>total</th>\n",
       "    </tr>\n",
       "  </thead>\n",
       "  <tbody>\n",
       "    <tr>\n",
       "      <td>he</td>\n",
       "      <td>642</td>\n",
       "      <td>1308</td>\n",
       "      <td>206</td>\n",
       "      <td>169</td>\n",
       "      <td>1068</td>\n",
       "      <td>3393</td>\n",
       "    </tr>\n",
       "    <tr>\n",
       "      <td>him</td>\n",
       "      <td>93</td>\n",
       "      <td>382</td>\n",
       "      <td>94</td>\n",
       "      <td>26</td>\n",
       "      <td>340</td>\n",
       "      <td>935</td>\n",
       "    </tr>\n",
       "    <tr>\n",
       "      <td>she</td>\n",
       "      <td>77</td>\n",
       "      <td>425</td>\n",
       "      <td>12</td>\n",
       "      <td>1</td>\n",
       "      <td>728</td>\n",
       "      <td>1243</td>\n",
       "    </tr>\n",
       "    <tr>\n",
       "      <td>her</td>\n",
       "      <td>121</td>\n",
       "      <td>413</td>\n",
       "      <td>8</td>\n",
       "      <td>3</td>\n",
       "      <td>680</td>\n",
       "      <td>1225</td>\n",
       "    </tr>\n",
       "  </tbody>\n",
       "</table>\n",
       "</div>"
      ],
      "text/plain": [
       "     news  fiction  religion  government  romance  total\n",
       "he    642     1308       206         169     1068   3393\n",
       "him    93      382        94          26      340    935\n",
       "she    77      425        12           1      728   1243\n",
       "her   121      413         8           3      680   1225"
      ]
     },
     "execution_count": 3,
     "metadata": {},
     "output_type": "execute_result"
    }
   ],
   "source": [
    "cond = nltk.ConditionalFreqDist([(genre, word.lower()) \n",
    "                                 for genre in genres\n",
    "                                 for word in brown.words(categories=genre) \n",
    "                                 if word.lower() in labels])\n",
    "df=pd.DataFrame(cond, columns=genres)\n",
    "df.fillna(0)\n",
    "freq_labels = df.sum(axis = 1, skipna = True)\n",
    "df['total'] = freq_labels.to_frame()\n",
    "\n",
    "sum_genres = df.sum(axis = 0, skipna = True) \n",
    "modDfObj = df.append(sum_genres, ignore_index=True)\n",
    "\n",
    "total = modDfObj['total'][4]\n",
    "print(total)\n",
    "df\n"
   ]
  },
  {
   "cell_type": "code",
   "execution_count": 4,
   "metadata": {},
   "outputs": [
    {
     "data": {
      "image/png": "[encoded data removed]",
      "text/plain": [
       "<Figure size 432x288 with 1 Axes>"
      ]
     },
     "metadata": {
      "needs_background": "light"
     },
     "output_type": "display_data"
    },
    {
     "data": {
      "text/plain": [
       "<matplotlib.axes._subplots.AxesSubplot at 0x7f4fa53fd490>"
      ]
     },
     "execution_count": 4,
     "metadata": {},
     "output_type": "execute_result"
    }
   ],
   "source": [
    "%matplotlib inline\n",
    "cond.plot()"
   ]
  },
  {
   "cell_type": "markdown",
   "metadata": {},
   "source": [
    "From the observations we can see that the masculine forms are more frequent than the feminine forms across all\n",
    "genres. \n",
    "The objective forms has an almost equal frequency throughout the chart.\n",
    "We can also see that news and fiction graphs follow the same pattern and her him she has a constant number in the genres. \n",
    "Romance tends to use the nominative forms more frequent than the objective form. \n",
    "Government and religion has the lowest frequency count of the labels. "
   ]
  },
  {
   "cell_type": "code",
   "execution_count": 6,
   "metadata": {},
   "outputs": [
    {
     "data": {
      "text/html": [
       "<div>\n",
       "<style scoped>\n",
       "    .dataframe tbody tr th:only-of-type {\n",
       "        vertical-align: middle;\n",
       "    }\n",
       "\n",
       "    .dataframe tbody tr th {\n",
       "        vertical-align: top;\n",
       "    }\n",
       "\n",
       "    .dataframe thead th {\n",
       "        text-align: right;\n",
       "    }\n",
       "</style>\n",
       "<table border=\"1\" class=\"dataframe\">\n",
       "  <thead>\n",
       "    <tr style=\"text-align: right;\">\n",
       "      <th></th>\n",
       "      <th>news</th>\n",
       "      <th>fiction</th>\n",
       "      <th>religion</th>\n",
       "      <th>government</th>\n",
       "      <th>romance</th>\n",
       "    </tr>\n",
       "  </thead>\n",
       "  <tbody>\n",
       "    <tr>\n",
       "      <td>nom_form</td>\n",
       "      <td>719</td>\n",
       "      <td>1733</td>\n",
       "      <td>218</td>\n",
       "      <td>170</td>\n",
       "      <td>1796</td>\n",
       "    </tr>\n",
       "    <tr>\n",
       "      <td>obj_form</td>\n",
       "      <td>214</td>\n",
       "      <td>795</td>\n",
       "      <td>102</td>\n",
       "      <td>29</td>\n",
       "      <td>1020</td>\n",
       "    </tr>\n",
       "  </tbody>\n",
       "</table>\n",
       "</div>"
      ],
      "text/plain": [
       "          news  fiction  religion  government  romance\n",
       "nom_form   719     1733       218         170     1796\n",
       "obj_form   214      795       102          29     1020"
      ]
     },
     "execution_count": 6,
     "metadata": {},
     "output_type": "execute_result"
    }
   ],
   "source": [
    "tk = nltk.ConditionalFreqDist() \n",
    "\n",
    "for genre in genres:\n",
    "    for word in brown.words(categories=genre):\n",
    "        w = word.lower()\n",
    "        if w in labels:\n",
    "            if w == 'he' or w == 'she':\n",
    "                tk[genre]['nom_form'] += 1\n",
    "            elif w == 'him' or w == 'her':\n",
    "                tk[genre]['obj_form'] += 1\n",
    "                \n",
    "df1=pd.DataFrame(tk, columns=genres)\n",
    "df1.fillna(0)"
   ]
  },
  {
   "cell_type": "code",
   "execution_count": 7,
   "metadata": {},
   "outputs": [
    {
     "data": {
      "text/html": [
       "<div>\n",
       "<style scoped>\n",
       "    .dataframe tbody tr th:only-of-type {\n",
       "        vertical-align: middle;\n",
       "    }\n",
       "\n",
       "    .dataframe tbody tr th {\n",
       "        vertical-align: top;\n",
       "    }\n",
       "\n",
       "    .dataframe thead th {\n",
       "        text-align: right;\n",
       "    }\n",
       "</style>\n",
       "<table border=\"1\" class=\"dataframe\">\n",
       "  <thead>\n",
       "    <tr style=\"text-align: right;\">\n",
       "      <th></th>\n",
       "      <th>he</th>\n",
       "      <th>him</th>\n",
       "      <th>she</th>\n",
       "      <th>her</th>\n",
       "    </tr>\n",
       "  </thead>\n",
       "  <tbody>\n",
       "    <tr>\n",
       "      <td>0</td>\n",
       "      <td>0.499</td>\n",
       "      <td>0.138</td>\n",
       "      <td>0.183</td>\n",
       "      <td>0.18</td>\n",
       "    </tr>\n",
       "  </tbody>\n",
       "</table>\n",
       "</div>"
      ],
      "text/plain": [
       "      he    him    she   her\n",
       "0  0.499  0.138  0.183  0.18"
      ]
     },
     "execution_count": 7,
     "metadata": {},
     "output_type": "execute_result"
    }
   ],
   "source": [
    "\n",
    "he = float(\"{0:.3f}\".format(freq_labels['he'] / total))\n",
    "him = float(\"{0:.3f}\".format(freq_labels['him'] / total))\n",
    "she = float(\"{0:.3f}\".format(freq_labels['she'] / total))\n",
    "her = float(\"{0:.3f}\".format(freq_labels['her'] / total))\n",
    "data = [ [(he) ,(him) ,(she), (her)]]\n",
    "df = pd.DataFrame(data, columns = ['he', 'him','she','her'])\n",
    "df"
   ]
  },
  {
   "cell_type": "code",
   "execution_count": 8,
   "metadata": {},
   "outputs": [],
   "source": [
    "brown_tagged = brown.tagged_words(categories=genres, tagset='universal')\n",
    "brown_tagged_pron = [word.lower() for (word, tag) in brown_tagged if tag == 'PRON']\n",
    "\n",
    "pos_tagged = pos_tag(brown_tagged_pron)\n",
    "labels = ['he', 'him', 'she','her','hers','his']\n",
    "labels.sort()\n",
    "tagged_words = [\n",
    "            (word,tag) \n",
    "                for (word,tag) in pos_tagged \n",
    "                    if word.lower() in labels \n",
    "                    if tag == 'PRP$'\n",
    "                    or tag == 'PRP']"
   ]
  },
  {
   "cell_type": "code",
   "execution_count": null,
   "metadata": {},
   "outputs": [],
   "source": []
  },
  {
   "cell_type": "code",
   "execution_count": 9,
   "metadata": {},
   "outputs": [
    {
     "data": {
      "text/html": [
       "<div>\n",
       "<style scoped>\n",
       "    .dataframe tbody tr th:only-of-type {\n",
       "        vertical-align: middle;\n",
       "    }\n",
       "\n",
       "    .dataframe tbody tr th {\n",
       "        vertical-align: top;\n",
       "    }\n",
       "\n",
       "    .dataframe thead th {\n",
       "        text-align: right;\n",
       "    }\n",
       "</style>\n",
       "<table border=\"1\" class=\"dataframe\">\n",
       "  <thead>\n",
       "    <tr style=\"text-align: right;\">\n",
       "      <th></th>\n",
       "      <th>he</th>\n",
       "      <th>her</th>\n",
       "      <th>hers</th>\n",
       "      <th>him</th>\n",
       "      <th>his</th>\n",
       "      <th>she</th>\n",
       "    </tr>\n",
       "  </thead>\n",
       "  <tbody>\n",
       "    <tr>\n",
       "      <td>PRP</td>\n",
       "      <td>3393.0</td>\n",
       "      <td>39</td>\n",
       "      <td>0</td>\n",
       "      <td>935.0</td>\n",
       "      <td>0.0</td>\n",
       "      <td>1243.0</td>\n",
       "    </tr>\n",
       "    <tr>\n",
       "      <td>PRP$</td>\n",
       "      <td>0.0</td>\n",
       "      <td>397</td>\n",
       "      <td>0</td>\n",
       "      <td>0.0</td>\n",
       "      <td>17.0</td>\n",
       "      <td>0.0</td>\n",
       "    </tr>\n",
       "  </tbody>\n",
       "</table>\n",
       "</div>"
      ],
      "text/plain": [
       "          he  her  hers    him   his     she\n",
       "PRP   3393.0   39     0  935.0   0.0  1243.0\n",
       "PRP$     0.0  397     0    0.0  17.0     0.0"
      ]
     },
     "execution_count": 9,
     "metadata": {},
     "output_type": "execute_result"
    }
   ],
   "source": [
    "cond = nltk.ConditionalFreqDist(tagged_words)\n",
    "\n",
    "df2=pd.DataFrame(cond, columns=labels).fillna(0)\n",
    "df2"
   ]
  },
  {
   "cell_type": "code",
   "execution_count": 10,
   "metadata": {},
   "outputs": [
    {
     "data": {
      "text/html": [
       "<div>\n",
       "<style scoped>\n",
       "    .dataframe tbody tr th:only-of-type {\n",
       "        vertical-align: middle;\n",
       "    }\n",
       "\n",
       "    .dataframe tbody tr th {\n",
       "        vertical-align: top;\n",
       "    }\n",
       "\n",
       "    .dataframe thead th {\n",
       "        text-align: right;\n",
       "    }\n",
       "</style>\n",
       "<table border=\"1\" class=\"dataframe\">\n",
       "  <thead>\n",
       "    <tr style=\"text-align: right;\">\n",
       "      <th></th>\n",
       "      <th>he</th>\n",
       "      <th>him</th>\n",
       "      <th>she</th>\n",
       "      <th>her</th>\n",
       "    </tr>\n",
       "  </thead>\n",
       "  <tbody>\n",
       "    <tr>\n",
       "      <td>0</td>\n",
       "      <td>0.499</td>\n",
       "      <td>0.138</td>\n",
       "      <td>0.183</td>\n",
       "      <td>0.18</td>\n",
       "    </tr>\n",
       "  </tbody>\n",
       "</table>\n",
       "</div>"
      ],
      "text/plain": [
       "      he    him    she   her\n",
       "0  0.499  0.138  0.183  0.18"
      ]
     },
     "execution_count": 10,
     "metadata": {},
     "output_type": "execute_result"
    }
   ],
   "source": [
    "her = float(\"{0:.3f}\".format(df2['her'].PRP / total))\n",
    "he = float(\"{0:.3f}\".format(df2['he'].PRP / total))\n",
    "she = float(\"{0:.3f}\".format(df2['she'].PRP / total))\n",
    "him = float(\"{0:.3f}\".format(df2['him'].PRP / total))\n",
    "data = [ [(he) ,(him) ,(she), (her)]]\n",
    "df_new = pd.DataFrame(data, columns = ['he', 'him','she','her'])\n",
    "df"
   ]
  },
  {
   "cell_type": "code",
   "execution_count": 11,
   "metadata": {},
   "outputs": [
    {
     "data": {
      "text/html": [
       "<div>\n",
       "<style scoped>\n",
       "    .dataframe tbody tr th:only-of-type {\n",
       "        vertical-align: middle;\n",
       "    }\n",
       "\n",
       "    .dataframe tbody tr th {\n",
       "        vertical-align: top;\n",
       "    }\n",
       "\n",
       "    .dataframe thead th {\n",
       "        text-align: right;\n",
       "    }\n",
       "</style>\n",
       "<table border=\"1\" class=\"dataframe\">\n",
       "  <thead>\n",
       "    <tr style=\"text-align: right;\">\n",
       "      <th></th>\n",
       "      <th>he</th>\n",
       "      <th>him</th>\n",
       "      <th>she</th>\n",
       "      <th>her</th>\n",
       "    </tr>\n",
       "  </thead>\n",
       "  <tbody>\n",
       "    <tr>\n",
       "      <td>0</td>\n",
       "      <td>0.499</td>\n",
       "      <td>0.138</td>\n",
       "      <td>0.183</td>\n",
       "      <td>0.006</td>\n",
       "    </tr>\n",
       "  </tbody>\n",
       "</table>\n",
       "</div>"
      ],
      "text/plain": [
       "      he    him    she    her\n",
       "0  0.499  0.138  0.183  0.006"
      ]
     },
     "execution_count": 11,
     "metadata": {},
     "output_type": "execute_result"
    }
   ],
   "source": [
    "df_new"
   ]
  },
  {
   "cell_type": "markdown",
   "metadata": {},
   "source": [
    "Write a short essay (200-300 words) where you discuss the consequences of your findings.\n",
    "Consider in particular, why do you think the masculine pronoun is more frequent than the\n",
    "feminine pronoun? If you find that the there is a different distribution between nominative\n",
    "and objective forms for the masculine and the feminine pronouns, why do you think that is\n",
    "the case? Do you see any consequences for the development of language technology in\n",
    "general, and for language technology derived from example texts, in particular? Make use of\n",
    "what you know about the Brown corpus."
   ]
  },
  {
   "cell_type": "markdown",
   "metadata": {},
   "source": [
    "I think that the masculine pronoun is more frequent than the feminine pronoun because I think men use more personal pronouns when writing, maybe to display power and influence over others."
   ]
  },
  {
   "cell_type": "markdown",
   "metadata": {},
   "source": [
    "## Exercise 2"
   ]
  },
  {
   "cell_type": "code",
   "execution_count": 12,
   "metadata": {},
   "outputs": [],
   "source": [
    "from urllib import request\n",
    "from nltk import word_tokenize\n",
    "import re, string\n",
    "import numpy as np"
   ]
  },
  {
   "cell_type": "code",
   "execution_count": 13,
   "metadata": {},
   "outputs": [],
   "source": [
    "url = \"https://www.gutenberg.org/files/74/74-0.txt\"\n",
    "response = request.urlopen(url)\n",
    "raw = response.read().decode('utf8')"
   ]
  },
  {
   "cell_type": "code",
   "execution_count": 14,
   "metadata": {},
   "outputs": [],
   "source": [
    "text = re.search(\"(?<=HARTFORD, 1876.)[\\s\\S]*CONCLUSION\", raw)[0] # lookbehind from conclusion to start of book\n",
    "text = text[:-10] # remove word: conclusion \n",
    "text = text.replace('.','') # replace punctuation with nothing\n",
    "tokens = nltk.word_tokenize(text)\n",
    "tokens[:5] # first five words in book\n",
    "tokens = [t.lower() for t in tokens if t.isalpha()]"
   ]
  },
  {
   "cell_type": "code",
   "execution_count": 15,
   "metadata": {},
   "outputs": [],
   "source": [
    "# I do not want to case fold the text since some words will loose its meaning, like names etc."
   ]
  },
  {
   "cell_type": "code",
   "execution_count": 16,
   "metadata": {},
   "outputs": [
    {
     "data": {
      "text/html": [
       "<style  type=\"text/css\" >\n",
       "</style><table id=\"T_d0e8cf30_d56c_11e9_924d_297d83e812de\" ><thead>    <tr>        <th class=\"col_heading level0 col0\" >token</th>        <th class=\"col_heading level0 col1\" >freq</th>    </tr></thead><tbody>\n",
       "                <tr>\n",
       "                                <td id=\"T_d0e8cf30_d56c_11e9_924d_297d83e812derow0_col0\" class=\"data row0 col0\" >the</td>\n",
       "                        <td id=\"T_d0e8cf30_d56c_11e9_924d_297d83e812derow0_col1\" class=\"data row0 col1\" >3694</td>\n",
       "            </tr>\n",
       "            <tr>\n",
       "                                <td id=\"T_d0e8cf30_d56c_11e9_924d_297d83e812derow1_col0\" class=\"data row1 col0\" >and</td>\n",
       "                        <td id=\"T_d0e8cf30_d56c_11e9_924d_297d83e812derow1_col1\" class=\"data row1 col1\" >3082</td>\n",
       "            </tr>\n",
       "            <tr>\n",
       "                                <td id=\"T_d0e8cf30_d56c_11e9_924d_297d83e812derow2_col0\" class=\"data row2 col0\" >a</td>\n",
       "                        <td id=\"T_d0e8cf30_d56c_11e9_924d_297d83e812derow2_col1\" class=\"data row2 col1\" >1824</td>\n",
       "            </tr>\n",
       "            <tr>\n",
       "                                <td id=\"T_d0e8cf30_d56c_11e9_924d_297d83e812derow3_col0\" class=\"data row3 col0\" >to</td>\n",
       "                        <td id=\"T_d0e8cf30_d56c_11e9_924d_297d83e812derow3_col1\" class=\"data row3 col1\" >1706</td>\n",
       "            </tr>\n",
       "            <tr>\n",
       "                                <td id=\"T_d0e8cf30_d56c_11e9_924d_297d83e812derow4_col0\" class=\"data row4 col0\" >of</td>\n",
       "                        <td id=\"T_d0e8cf30_d56c_11e9_924d_297d83e812derow4_col1\" class=\"data row4 col1\" >1426</td>\n",
       "            </tr>\n",
       "            <tr>\n",
       "                                <td id=\"T_d0e8cf30_d56c_11e9_924d_297d83e812derow5_col0\" class=\"data row5 col0\" >it</td>\n",
       "                        <td id=\"T_d0e8cf30_d56c_11e9_924d_297d83e812derow5_col1\" class=\"data row5 col1\" >1303</td>\n",
       "            </tr>\n",
       "            <tr>\n",
       "                                <td id=\"T_d0e8cf30_d56c_11e9_924d_297d83e812derow6_col0\" class=\"data row6 col0\" >he</td>\n",
       "                        <td id=\"T_d0e8cf30_d56c_11e9_924d_297d83e812derow6_col1\" class=\"data row6 col1\" >1242</td>\n",
       "            </tr>\n",
       "            <tr>\n",
       "                                <td id=\"T_d0e8cf30_d56c_11e9_924d_297d83e812derow7_col0\" class=\"data row7 col0\" >was</td>\n",
       "                        <td id=\"T_d0e8cf30_d56c_11e9_924d_297d83e812derow7_col1\" class=\"data row7 col1\" >1178</td>\n",
       "            </tr>\n",
       "            <tr>\n",
       "                                <td id=\"T_d0e8cf30_d56c_11e9_924d_297d83e812derow8_col0\" class=\"data row8 col0\" >that</td>\n",
       "                        <td id=\"T_d0e8cf30_d56c_11e9_924d_297d83e812derow8_col1\" class=\"data row8 col1\" >1013</td>\n",
       "            </tr>\n",
       "            <tr>\n",
       "                                <td id=\"T_d0e8cf30_d56c_11e9_924d_297d83e812derow9_col0\" class=\"data row9 col0\" >i</td>\n",
       "                        <td id=\"T_d0e8cf30_d56c_11e9_924d_297d83e812derow9_col1\" class=\"data row9 col1\" >1003</td>\n",
       "            </tr>\n",
       "            <tr>\n",
       "                                <td id=\"T_d0e8cf30_d56c_11e9_924d_297d83e812derow10_col0\" class=\"data row10 col0\" >in</td>\n",
       "                        <td id=\"T_d0e8cf30_d56c_11e9_924d_297d83e812derow10_col1\" class=\"data row10 col1\" >940</td>\n",
       "            </tr>\n",
       "            <tr>\n",
       "                                <td id=\"T_d0e8cf30_d56c_11e9_924d_297d83e812derow11_col0\" class=\"data row11 col0\" >you</td>\n",
       "                        <td id=\"T_d0e8cf30_d56c_11e9_924d_297d83e812derow11_col1\" class=\"data row11 col1\" >864</td>\n",
       "            </tr>\n",
       "            <tr>\n",
       "                                <td id=\"T_d0e8cf30_d56c_11e9_924d_297d83e812derow12_col0\" class=\"data row12 col0\" >his</td>\n",
       "                        <td id=\"T_d0e8cf30_d56c_11e9_924d_297d83e812derow12_col1\" class=\"data row12 col1\" >815</td>\n",
       "            </tr>\n",
       "            <tr>\n",
       "                                <td id=\"T_d0e8cf30_d56c_11e9_924d_297d83e812derow13_col0\" class=\"data row13 col0\" >tom</td>\n",
       "                        <td id=\"T_d0e8cf30_d56c_11e9_924d_297d83e812derow13_col1\" class=\"data row13 col1\" >767</td>\n",
       "            </tr>\n",
       "            <tr>\n",
       "                                <td id=\"T_d0e8cf30_d56c_11e9_924d_297d83e812derow14_col0\" class=\"data row14 col0\" >with</td>\n",
       "                        <td id=\"T_d0e8cf30_d56c_11e9_924d_297d83e812derow14_col1\" class=\"data row14 col1\" >645</td>\n",
       "            </tr>\n",
       "            <tr>\n",
       "                                <td id=\"T_d0e8cf30_d56c_11e9_924d_297d83e812derow15_col0\" class=\"data row15 col0\" >they</td>\n",
       "                        <td id=\"T_d0e8cf30_d56c_11e9_924d_297d83e812derow15_col1\" class=\"data row15 col1\" >609</td>\n",
       "            </tr>\n",
       "            <tr>\n",
       "                                <td id=\"T_d0e8cf30_d56c_11e9_924d_297d83e812derow16_col0\" class=\"data row16 col0\" >but</td>\n",
       "                        <td id=\"T_d0e8cf30_d56c_11e9_924d_297d83e812derow16_col1\" class=\"data row16 col1\" >579</td>\n",
       "            </tr>\n",
       "            <tr>\n",
       "                                <td id=\"T_d0e8cf30_d56c_11e9_924d_297d83e812derow17_col0\" class=\"data row17 col0\" >had</td>\n",
       "                        <td id=\"T_d0e8cf30_d56c_11e9_924d_297d83e812derow17_col1\" class=\"data row17 col1\" >526</td>\n",
       "            </tr>\n",
       "            <tr>\n",
       "                                <td id=\"T_d0e8cf30_d56c_11e9_924d_297d83e812derow18_col0\" class=\"data row18 col0\" >for</td>\n",
       "                        <td id=\"T_d0e8cf30_d56c_11e9_924d_297d83e812derow18_col1\" class=\"data row18 col1\" >525</td>\n",
       "            </tr>\n",
       "            <tr>\n",
       "                                <td id=\"T_d0e8cf30_d56c_11e9_924d_297d83e812derow19_col0\" class=\"data row19 col0\" >him</td>\n",
       "                        <td id=\"T_d0e8cf30_d56c_11e9_924d_297d83e812derow19_col1\" class=\"data row19 col1\" >426</td>\n",
       "            </tr>\n",
       "    </tbody></table>"
      ],
      "text/plain": [
       "<pandas.io.formats.style.Styler at 0x7f4fa2327750>"
      ]
     },
     "execution_count": 16,
     "metadata": {},
     "output_type": "execute_result"
    }
   ],
   "source": [
    "tokens_freq = nltk.FreqDist(tokens)\n",
    "most_common = tokens_freq.most_common(20)\n",
    "token_df=pd.DataFrame(most_common, columns=['token', 'freq'])\n",
    "token_df.style.hide_index()"
   ]
  },
  {
   "cell_type": "code",
   "execution_count": 17,
   "metadata": {},
   "outputs": [],
   "source": [
    "def n_times(n):\n",
    "    return df.freq == n\n",
    "\n",
    "def between_11_and_50():\n",
    "    x = df.freq > 11\n",
    "    y = df.freq < 50\n",
    "    return x & y\n",
    "\n",
    "def between_50_and_100():\n",
    "    x = df.freq > 50\n",
    "    y = df.freq < 100\n",
    "    return x & y\n",
    "\n",
    "def from_51_to_100():\n",
    "    x = df.freq >= 51\n",
    "    y = df.freq <= 100\n",
    "    return x & y\n",
    "    "
   ]
  },
  {
   "cell_type": "code",
   "execution_count": 18,
   "metadata": {},
   "outputs": [],
   "source": [
    "df = pd.DataFrame(tokens_freq.items(), columns=['token', 'freq'])\n",
    "\n",
    "select_n_times = df.loc[n_times(3)]\n",
    "\n",
    "select_one_time = df.loc[df.freq == 1]\n",
    "\n",
    "select_between_11_and_50 = df.loc[between_11_and_50()]\n",
    "\n",
    "select_between_50_and_100 = df.loc[between_50_and_100()]\n",
    "\n",
    "select_larger_than_100 = df.loc[df.freq > 100]\n",
    "\n",
    "select_51_100 = df.loc[from_51_to_100()]\n"
   ]
  },
  {
   "cell_type": "code",
   "execution_count": 19,
   "metadata": {},
   "outputs": [],
   "source": [
    "x = df.loc[df.freq > 3000]"
   ]
  },
  {
   "cell_type": "code",
   "execution_count": 20,
   "metadata": {},
   "outputs": [],
   "source": [
    "a = select_one_time.sum(axis=1).count()\n",
    "b = select_between_11_and_50.sum(axis=1).count()\n",
    "c = select_between_50_and_100.sum(axis=1).count()\n",
    "d = select_larger_than_100.sum(axis=1).count()\n",
    "e = select_51_100.sum(axis=1).count()\n",
    "Selectors = ['one time', 'between 11 and 50', 'between 50 and 100', 'larger than 100','51-100']"
   ]
  },
  {
   "cell_type": "code",
   "execution_count": 21,
   "metadata": {},
   "outputs": [
    {
     "data": {
      "text/html": [
       "<div>\n",
       "<style scoped>\n",
       "    .dataframe tbody tr th:only-of-type {\n",
       "        vertical-align: middle;\n",
       "    }\n",
       "\n",
       "    .dataframe tbody tr th {\n",
       "        vertical-align: top;\n",
       "    }\n",
       "\n",
       "    .dataframe thead th {\n",
       "        text-align: right;\n",
       "    }\n",
       "</style>\n",
       "<table border=\"1\" class=\"dataframe\">\n",
       "  <thead>\n",
       "    <tr style=\"text-align: right;\">\n",
       "      <th></th>\n",
       "      <th>Selectors</th>\n",
       "      <th>Occurrences</th>\n",
       "    </tr>\n",
       "  </thead>\n",
       "  <tbody>\n",
       "    <tr>\n",
       "      <td>0</td>\n",
       "      <td>one time</td>\n",
       "      <td>3384</td>\n",
       "    </tr>\n",
       "    <tr>\n",
       "      <td>1</td>\n",
       "      <td>between 11 and 50</td>\n",
       "      <td>407</td>\n",
       "    </tr>\n",
       "    <tr>\n",
       "      <td>2</td>\n",
       "      <td>between 50 and 100</td>\n",
       "      <td>79</td>\n",
       "    </tr>\n",
       "    <tr>\n",
       "      <td>3</td>\n",
       "      <td>larger than 100</td>\n",
       "      <td>101</td>\n",
       "    </tr>\n",
       "    <tr>\n",
       "      <td>4</td>\n",
       "      <td>51-100</td>\n",
       "      <td>79</td>\n",
       "    </tr>\n",
       "  </tbody>\n",
       "</table>\n",
       "</div>"
      ],
      "text/plain": [
       "            Selectors  Occurrences\n",
       "0            one time         3384\n",
       "1   between 11 and 50          407\n",
       "2  between 50 and 100           79\n",
       "3     larger than 100          101\n",
       "4              51-100           79"
      ]
     },
     "execution_count": 21,
     "metadata": {},
     "output_type": "execute_result"
    }
   ],
   "source": [
    "raw_data = {'Selectors': Selectors, \n",
    "        'Occurrences': [a,b,c,d,e]}\n",
    "df = pd.DataFrame(raw_data, columns = ['Selectors', 'Occurrences'])\n",
    "df"
   ]
  },
  {
   "cell_type": "code",
   "execution_count": 22,
   "metadata": {},
   "outputs": [
    {
     "data": {
      "text/plain": [
       "<matplotlib.axes._subplots.AxesSubplot at 0x7f4fa22fa410>"
      ]
     },
     "execution_count": 22,
     "metadata": {},
     "output_type": "execute_result"
    },
    {
     "data": {
      "image/png": "[encoded data removed]",
      "text/plain": [
       "<Figure size 432x288 with 1 Axes>"
      ]
     },
     "metadata": {
      "needs_background": "light"
     },
     "output_type": "display_data"
    }
   ],
   "source": [
    "df.plot(kind='bar',x='Selectors',y='Occurrences')"
   ]
  },
  {
   "cell_type": "code",
   "execution_count": 23,
   "metadata": {},
   "outputs": [],
   "source": [
    "words = [(word) for (word,freq) in tokens_freq.most_common(20)]\n",
    "freq = [(freq) for (word,freq) in tokens_freq.most_common(20)]\n",
    "rank = [rank for rank in range(1,21)]\n"
   ]
  },
  {
   "cell_type": "code",
   "execution_count": 24,
   "metadata": {},
   "outputs": [
    {
     "data": {
      "text/html": [
       "<div>\n",
       "<style scoped>\n",
       "    .dataframe tbody tr th:only-of-type {\n",
       "        vertical-align: middle;\n",
       "    }\n",
       "\n",
       "    .dataframe tbody tr th {\n",
       "        vertical-align: top;\n",
       "    }\n",
       "\n",
       "    .dataframe thead th {\n",
       "        text-align: right;\n",
       "    }\n",
       "</style>\n",
       "<table border=\"1\" class=\"dataframe\">\n",
       "  <thead>\n",
       "    <tr style=\"text-align: right;\">\n",
       "      <th></th>\n",
       "      <th>Words</th>\n",
       "      <th>Frequency</th>\n",
       "      <th>Rank</th>\n",
       "      <th>zip</th>\n",
       "    </tr>\n",
       "  </thead>\n",
       "  <tbody>\n",
       "    <tr>\n",
       "      <td>0</td>\n",
       "      <td>the</td>\n",
       "      <td>3694</td>\n",
       "      <td>1</td>\n",
       "      <td>3694</td>\n",
       "    </tr>\n",
       "    <tr>\n",
       "      <td>1</td>\n",
       "      <td>and</td>\n",
       "      <td>3082</td>\n",
       "      <td>2</td>\n",
       "      <td>6164</td>\n",
       "    </tr>\n",
       "    <tr>\n",
       "      <td>2</td>\n",
       "      <td>a</td>\n",
       "      <td>1824</td>\n",
       "      <td>3</td>\n",
       "      <td>5472</td>\n",
       "    </tr>\n",
       "    <tr>\n",
       "      <td>3</td>\n",
       "      <td>to</td>\n",
       "      <td>1706</td>\n",
       "      <td>4</td>\n",
       "      <td>6824</td>\n",
       "    </tr>\n",
       "    <tr>\n",
       "      <td>4</td>\n",
       "      <td>of</td>\n",
       "      <td>1426</td>\n",
       "      <td>5</td>\n",
       "      <td>7130</td>\n",
       "    </tr>\n",
       "    <tr>\n",
       "      <td>5</td>\n",
       "      <td>it</td>\n",
       "      <td>1303</td>\n",
       "      <td>6</td>\n",
       "      <td>7818</td>\n",
       "    </tr>\n",
       "    <tr>\n",
       "      <td>6</td>\n",
       "      <td>he</td>\n",
       "      <td>1242</td>\n",
       "      <td>7</td>\n",
       "      <td>8694</td>\n",
       "    </tr>\n",
       "    <tr>\n",
       "      <td>7</td>\n",
       "      <td>was</td>\n",
       "      <td>1178</td>\n",
       "      <td>8</td>\n",
       "      <td>9424</td>\n",
       "    </tr>\n",
       "    <tr>\n",
       "      <td>8</td>\n",
       "      <td>that</td>\n",
       "      <td>1013</td>\n",
       "      <td>9</td>\n",
       "      <td>9117</td>\n",
       "    </tr>\n",
       "    <tr>\n",
       "      <td>9</td>\n",
       "      <td>i</td>\n",
       "      <td>1003</td>\n",
       "      <td>10</td>\n",
       "      <td>10030</td>\n",
       "    </tr>\n",
       "    <tr>\n",
       "      <td>10</td>\n",
       "      <td>in</td>\n",
       "      <td>940</td>\n",
       "      <td>11</td>\n",
       "      <td>10340</td>\n",
       "    </tr>\n",
       "    <tr>\n",
       "      <td>11</td>\n",
       "      <td>you</td>\n",
       "      <td>864</td>\n",
       "      <td>12</td>\n",
       "      <td>10368</td>\n",
       "    </tr>\n",
       "    <tr>\n",
       "      <td>12</td>\n",
       "      <td>his</td>\n",
       "      <td>815</td>\n",
       "      <td>13</td>\n",
       "      <td>10595</td>\n",
       "    </tr>\n",
       "    <tr>\n",
       "      <td>13</td>\n",
       "      <td>tom</td>\n",
       "      <td>767</td>\n",
       "      <td>14</td>\n",
       "      <td>10738</td>\n",
       "    </tr>\n",
       "    <tr>\n",
       "      <td>14</td>\n",
       "      <td>with</td>\n",
       "      <td>645</td>\n",
       "      <td>15</td>\n",
       "      <td>9675</td>\n",
       "    </tr>\n",
       "    <tr>\n",
       "      <td>15</td>\n",
       "      <td>they</td>\n",
       "      <td>609</td>\n",
       "      <td>16</td>\n",
       "      <td>9744</td>\n",
       "    </tr>\n",
       "    <tr>\n",
       "      <td>16</td>\n",
       "      <td>but</td>\n",
       "      <td>579</td>\n",
       "      <td>17</td>\n",
       "      <td>9843</td>\n",
       "    </tr>\n",
       "    <tr>\n",
       "      <td>17</td>\n",
       "      <td>had</td>\n",
       "      <td>526</td>\n",
       "      <td>18</td>\n",
       "      <td>9468</td>\n",
       "    </tr>\n",
       "    <tr>\n",
       "      <td>18</td>\n",
       "      <td>for</td>\n",
       "      <td>525</td>\n",
       "      <td>19</td>\n",
       "      <td>9975</td>\n",
       "    </tr>\n",
       "    <tr>\n",
       "      <td>19</td>\n",
       "      <td>him</td>\n",
       "      <td>426</td>\n",
       "      <td>20</td>\n",
       "      <td>8520</td>\n",
       "    </tr>\n",
       "  </tbody>\n",
       "</table>\n",
       "</div>"
      ],
      "text/plain": [
       "   Words  Frequency  Rank    zip\n",
       "0    the       3694     1   3694\n",
       "1    and       3082     2   6164\n",
       "2      a       1824     3   5472\n",
       "3     to       1706     4   6824\n",
       "4     of       1426     5   7130\n",
       "5     it       1303     6   7818\n",
       "6     he       1242     7   8694\n",
       "7    was       1178     8   9424\n",
       "8   that       1013     9   9117\n",
       "9      i       1003    10  10030\n",
       "10    in        940    11  10340\n",
       "11   you        864    12  10368\n",
       "12   his        815    13  10595\n",
       "13   tom        767    14  10738\n",
       "14  with        645    15   9675\n",
       "15  they        609    16   9744\n",
       "16   but        579    17   9843\n",
       "17   had        526    18   9468\n",
       "18   for        525    19   9975\n",
       "19   him        426    20   8520"
      ]
     },
     "execution_count": 24,
     "metadata": {},
     "output_type": "execute_result"
    }
   ],
   "source": [
    "raw_data = {\n",
    "        'Words': words,\n",
    "        'Frequency': freq,\n",
    "        'Rank': rank\n",
    "}\n",
    "df = pd.DataFrame(raw_data, columns = ['Words', 'Frequency', 'Rank'])\n",
    "\n",
    "df['zip'] = df.Frequency*df.Rank\n",
    "df"
   ]
  },
  {
   "cell_type": "code",
   "execution_count": 25,
   "metadata": {},
   "outputs": [
    {
     "data": {
      "text/plain": [
       "<matplotlib.axes._subplots.AxesSubplot at 0x7f4fa19acbd0>"
      ]
     },
     "execution_count": 25,
     "metadata": {},
     "output_type": "execute_result"
    },
    {
     "data": {
      "image/png": "[encoded data removed]",
      "text/plain": [
       "<Figure size 432x288 with 1 Axes>"
      ]
     },
     "metadata": {
      "needs_background": "light"
     },
     "output_type": "display_data"
    }
   ],
   "source": [
    "df.plot(kind='line',x='Rank',y='Frequency')"
   ]
  },
  {
   "cell_type": "code",
   "execution_count": 26,
   "metadata": {},
   "outputs": [
    {
     "data": {
      "text/plain": [
       "<matplotlib.axes._subplots.AxesSubplot at 0x7f4fa1947a10>"
      ]
     },
     "execution_count": 26,
     "metadata": {},
     "output_type": "execute_result"
    },
    {
     "data": {
      "image/png": "[encoded data removed]",
      "text/plain": [
       "<Figure size 432x288 with 1 Axes>"
      ]
     },
     "metadata": {
      "needs_background": "light"
     },
     "output_type": "display_data"
    }
   ],
   "source": [
    "df_copy = df.copy()\n",
    "df_copy['Rank'] = np.log(df.Rank.values)  \n",
    "df_copy['Frequency'] = np.log(df.Frequency.values)  \n",
    "df_copy.plot(kind='line',x='Rank',y='Frequency')"
   ]
  },
  {
   "cell_type": "code",
   "execution_count": 27,
   "metadata": {},
   "outputs": [
    {
     "data": {
      "text/plain": [
       "[<matplotlib.lines.Line2D at 0x7f4fa11dce10>]"
      ]
     },
     "execution_count": 27,
     "metadata": {},
     "output_type": "execute_result"
    },
    {
     "data": {
      "image/png": "[encoded data removed]",
      "text/plain": [
       "<Figure size 432x288 with 1 Axes>"
      ]
     },
     "metadata": {
      "needs_background": "light"
     },
     "output_type": "display_data"
    }
   ],
   "source": [
    "import matplotlib.pyplot as plt \n",
    "plt.loglog(df.Rank.values, df.Frequency.values)"
   ]
  },
  {
   "cell_type": "code",
   "execution_count": null,
   "metadata": {},
   "outputs": [],
   "source": []
  },
  {
   "cell_type": "markdown",
   "metadata": {},
   "source": [
    "### Exercise 3"
   ]
  },
  {
   "cell_type": "code",
   "execution_count": 28,
   "metadata": {},
   "outputs": [
    {
     "data": {
      "text/plain": [
       "120"
      ]
     },
     "execution_count": 28,
     "metadata": {},
     "output_type": "execute_result"
    }
   ],
   "source": [
    "def factorial(n):\n",
    "    if n == 1:\n",
    "        return n\n",
    "    else:\n",
    "        return n * factorial(n-1)\n",
    "t = factorial(5)\n",
    "t"
   ]
  },
  {
   "cell_type": "code",
   "execution_count": 29,
   "metadata": {},
   "outputs": [
    {
     "name": "stdout",
     "output_type": "stream",
     "text": [
      "120\n",
      "10\n",
      "1.858868737099451e-07\n",
      "1\n"
     ]
    }
   ],
   "source": [
    "\n",
    "def binom(n,m):\n",
    "    if n == m:\n",
    "        return 1\n",
    "    return factorial(n)//(factorial(m)*factorial(n-m))\n",
    "print(binom(10,7))    \n",
    "print(binom(5,3))\n",
    "print(1/binom(34,7)) # $lotto$\n",
    "print(binom(1,1))"
   ]
  },
  {
   "cell_type": "code",
   "execution_count": 30,
   "metadata": {},
   "outputs": [
    {
     "name": "stdout",
     "output_type": "stream",
     "text": [
      "Eksempel: Dersom man kaster en terning tre ganger, og terningen er velbygd, slik at sannsynligheten for å få en sekser er 1/6, blir sannsynligheten for å få sekser to ganger\n",
      "0.06944444444444445\n"
     ]
    }
   ],
   "source": [
    "def binom_pmf(k, n, p):\n",
    "    if k == 0:\n",
    "        return \n",
    "    if k>=n:\n",
    "        return 0\n",
    "    return binom(n,k)*p**k*(1-p)**(n-k)\n",
    "\n",
    "print(\"Eksempel: Dersom man kaster en terning tre ganger, og terningen er velbygd, slik at sannsynligheten for å få en sekser er 1/6, blir sannsynligheten for å få sekser to ganger\")\n",
    "print(binom_pmf(2,3,1/6))"
   ]
  },
  {
   "cell_type": "code",
   "execution_count": 31,
   "metadata": {},
   "outputs": [
    {
     "data": {
      "text/plain": [
       "0.1285055146350941"
      ]
     },
     "execution_count": 31,
     "metadata": {},
     "output_type": "execute_result"
    }
   ],
   "source": [
    "def binom_cdf(k,n,p):\n",
    "    answer = 0\n",
    "    for i in range(1,k+1):\n",
    "        answer = answer + binom_pmf(i,n,p)\n",
    "    return answer\n",
    "\n",
    "binom_cdf(15,100,0.2)"
   ]
  },
  {
   "cell_type": "code",
   "execution_count": 32,
   "metadata": {},
   "outputs": [
    {
     "name": "stdout",
     "output_type": "stream",
     "text": [
      "pmf  [0.03125, 0.109375, 0.21875, 0.2734375, 0.21875, 0.109375, 0.03125, 0]\n",
      "cdf  [0.03125, 0.140625, 0.359375, 0.6328125, 0.8515625, 0.9609375, 0.9921875, 0.9921875]\n"
     ]
    },
    {
     "data": {
      "text/html": [
       "<div>\n",
       "<style scoped>\n",
       "    .dataframe tbody tr th:only-of-type {\n",
       "        vertical-align: middle;\n",
       "    }\n",
       "\n",
       "    .dataframe tbody tr th {\n",
       "        vertical-align: top;\n",
       "    }\n",
       "\n",
       "    .dataframe thead th {\n",
       "        text-align: right;\n",
       "    }\n",
       "</style>\n",
       "<table border=\"1\" class=\"dataframe\">\n",
       "  <thead>\n",
       "    <tr style=\"text-align: right;\">\n",
       "      <th></th>\n",
       "      <th>pmf</th>\n",
       "      <th>cdf</th>\n",
       "    </tr>\n",
       "  </thead>\n",
       "  <tbody>\n",
       "    <tr>\n",
       "      <td>0</td>\n",
       "      <td>0.031250</td>\n",
       "      <td>0.031250</td>\n",
       "    </tr>\n",
       "    <tr>\n",
       "      <td>1</td>\n",
       "      <td>0.109375</td>\n",
       "      <td>0.140625</td>\n",
       "    </tr>\n",
       "    <tr>\n",
       "      <td>2</td>\n",
       "      <td>0.218750</td>\n",
       "      <td>0.359375</td>\n",
       "    </tr>\n",
       "    <tr>\n",
       "      <td>3</td>\n",
       "      <td>0.273438</td>\n",
       "      <td>0.632812</td>\n",
       "    </tr>\n",
       "    <tr>\n",
       "      <td>4</td>\n",
       "      <td>0.218750</td>\n",
       "      <td>0.851562</td>\n",
       "    </tr>\n",
       "    <tr>\n",
       "      <td>5</td>\n",
       "      <td>0.109375</td>\n",
       "      <td>0.960938</td>\n",
       "    </tr>\n",
       "    <tr>\n",
       "      <td>6</td>\n",
       "      <td>0.031250</td>\n",
       "      <td>0.992188</td>\n",
       "    </tr>\n",
       "    <tr>\n",
       "      <td>7</td>\n",
       "      <td>0.000000</td>\n",
       "      <td>0.992188</td>\n",
       "    </tr>\n",
       "  </tbody>\n",
       "</table>\n",
       "</div>"
      ],
      "text/plain": [
       "        pmf       cdf\n",
       "0  0.031250  0.031250\n",
       "1  0.109375  0.140625\n",
       "2  0.218750  0.359375\n",
       "3  0.273438  0.632812\n",
       "4  0.218750  0.851562\n",
       "5  0.109375  0.960938\n",
       "6  0.031250  0.992188\n",
       "7  0.000000  0.992188"
      ]
     },
     "execution_count": 32,
     "metadata": {},
     "output_type": "execute_result"
    }
   ],
   "source": [
    "n = 8\n",
    "p = 0.5\n",
    "k = [1,2,3,4,5,6,7,8]\n",
    "pmf = []\n",
    "cdf = []\n",
    "for i in k:\n",
    "    cdf.append(binom_cdf(i,n,p))\n",
    "\n",
    "for i in k:\n",
    "    pmf.append(binom_pmf(i,8,p))\n",
    "print(\"pmf \",pmf)\n",
    "print(\"cdf \", cdf)\n",
    "raw_data = {\n",
    "        'pmf': pmf,\n",
    "        'cdf': cdf\n",
    "}\n",
    "df = pd.DataFrame(raw_data, columns = ['pmf', 'cdf'])\n",
    "df"
   ]
  },
  {
   "cell_type": "code",
   "execution_count": 33,
   "metadata": {},
   "outputs": [
    {
     "data": {
      "image/png": "[encoded data removed]",
      "text/plain": [
       "<Figure size 432x288 with 1 Axes>"
      ]
     },
     "metadata": {
      "needs_background": "light"
     },
     "output_type": "display_data"
    }
   ],
   "source": [
    "import matplotlib.pyplot as plt\n",
    "%matplotlib inline\n",
    "plt.bar(k,pmf)\n",
    "plt.show()"
   ]
  },
  {
   "cell_type": "code",
   "execution_count": 34,
   "metadata": {},
   "outputs": [
    {
     "data": {
      "text/plain": [
       "0.5979938271604939"
      ]
     },
     "execution_count": 34,
     "metadata": {},
     "output_type": "execute_result"
    }
   ],
   "source": [
    "cdf = binom_cdf(5,5,1/6)\n",
    "cdf"
   ]
  },
  {
   "cell_type": "code",
   "execution_count": null,
   "metadata": {},
   "outputs": [],
   "source": []
  },
  {
   "cell_type": "markdown",
   "metadata": {},
   "source": [
    "### Exercise 4"
   ]
  },
  {
   "cell_type": "code",
   "execution_count": 35,
   "metadata": {},
   "outputs": [],
   "source": [
    "# the function simulates The Bernoulli distribution. The Bernoulli distribution describes events having exactly two outcomes.\n",
    "import random\n",
    "\n",
    "def mean(arr):\n",
    "    total=0\n",
    "    for i in arr:\n",
    "        total = total + i\n",
    "    return total/len(arr)\n",
    "    \n",
    "def bernoulli(p):\n",
    "    if random.random() < p:\n",
    "        return 1\n",
    "    else:\n",
    "        return 0"
   ]
  },
  {
   "cell_type": "code",
   "execution_count": 36,
   "metadata": {},
   "outputs": [
    {
     "data": {
      "text/plain": [
       "0.5"
      ]
     },
     "execution_count": 36,
     "metadata": {},
     "output_type": "execute_result"
    }
   ],
   "source": [
    "results = [i for i in range(10) if bernoulli(0.5) == 1] # returns if sucess\n",
    "len(results)/10"
   ]
  },
  {
   "cell_type": "code",
   "execution_count": 37,
   "metadata": {},
   "outputs": [],
   "source": [
    "from collections import Counter "
   ]
  },
  {
   "cell_type": "code",
   "execution_count": 38,
   "metadata": {},
   "outputs": [
    {
     "data": {
      "text/plain": [
       "0.5349999999999999"
      ]
     },
     "execution_count": 38,
     "metadata": {},
     "output_type": "execute_result"
    }
   ],
   "source": [
    "def bin_exper(n, p):\n",
    "    return len([i for i in range(n) if bernoulli(p) == 1]) # returns if sucess\n",
    "\n",
    "means = []\n",
    "for i in range(20):\n",
    "    means.append(bin_exper(10, 0.5))\n",
    "\n",
    "mean(means)/10 "
   ]
  },
  {
   "cell_type": "code",
   "execution_count": 57,
   "metadata": {},
   "outputs": [
    {
     "data": {
      "text/plain": [
       "<matplotlib.axes._subplots.AxesSubplot at 0x7f4fa08a1a90>"
      ]
     },
     "execution_count": 57,
     "metadata": {},
     "output_type": "execute_result"
    },
    {
     "data": {
      "image/png": "[encoded data removed]",
      "text/plain": [
       "<Figure size 432x288 with 1 Axes>"
      ]
     },
     "metadata": {
      "needs_background": "light"
     },
     "output_type": "display_data"
    }
   ],
   "source": [
    "#We will inspect the effect of running an experiment many times and taking the averages.\n",
    "#Make a function bin_freqs(m, n, p) which runs bin_exper(n, p) m many times and returns the\n",
    "#relative frequencies of k successes of bin_exper(n, p) for k = 0, 1, …, n i.e., the frequency of\n",
    "#frequencies.\n",
    "\n",
    "\n",
    "\n",
    "def bin_freqs(m, n, p):\n",
    "    freq = []\n",
    "    for i in range(m):\n",
    "        x = bin_exper(n,p)/n\n",
    "        freq.append(x)\n",
    "    return nltk.FreqDist(freq)   \n",
    "\n",
    "\n",
    "freqs = bin_freqs(10,8,0.5)\n",
    "\n",
    "df=pd.DataFrame(freqs.items(),columns=['relative freq', 'occ'])\n",
    "df.sort_values('relative freq',inplace=True)\n",
    "df1.plot(kind='bar',x='relative freq',y='occ')\n",
    "\n",
    "\n"
   ]
  },
  {
   "cell_type": "code",
   "execution_count": 53,
   "metadata": {},
   "outputs": [
    {
     "data": {
      "image/png": "[encoded data removed]",
      "text/plain": [
       "<Figure size 432x288 with 1 Axes>"
      ]
     },
     "metadata": {
      "needs_background": "light"
     },
     "output_type": "display_data"
    },
    {
     "data": {
      "image/png": "[encoded data removed]",
      "text/plain": [
       "<Figure size 432x288 with 1 Axes>"
      ]
     },
     "metadata": {
      "needs_background": "light"
     },
     "output_type": "display_data"
    },
    {
     "data": {
      "image/png": "[encoded data removed]",
      "text/plain": [
       "<Figure size 432x288 with 1 Axes>"
      ]
     },
     "metadata": {
      "needs_background": "light"
     },
     "output_type": "display_data"
    },
    {
     "data": {
      "image/png": "[encoded data removed]",
      "text/plain": [
       "<Figure size 432x288 with 1 Axes>"
      ]
     },
     "metadata": {
      "needs_background": "light"
     },
     "output_type": "display_data"
    },
    {
     "data": {
      "image/png": "[encoded data removed]",
      "text/plain": [
       "<Figure size 432x288 with 1 Axes>"
      ]
     },
     "metadata": {
      "needs_background": "light"
     },
     "output_type": "display_data"
    }
   ],
   "source": [
    "n = 8\n",
    "p = 0.5\n",
    "m = [4,10,100,1000,10000]\n",
    "items = []\n",
    "for i in m:\n",
    "    df=pd.DataFrame(bin_freqs(i,8,0.5).items(),columns=['relative freq', 'occ'])\n",
    "    df.sort_values('relative freq',inplace=True)\n",
    "    df.plot(kind='bar',x='relative freq',y='occ')\n",
    "    "
   ]
  },
  {
   "cell_type": "code",
   "execution_count": null,
   "metadata": {},
   "outputs": [],
   "source": []
  },
  {
   "cell_type": "code",
   "execution_count": null,
   "metadata": {},
   "outputs": [],
   "source": []
  }
 ],
 "metadata": {
  "kernelspec": {
   "display_name": "Python 3",
   "language": "python",
   "name": "python3"
  },
  "language_info": {
   "codemirror_mode": {
    "name": "ipython",
    "version": 3
   },
   "file_extension": ".py",
   "mimetype": "text/x-python",
   "name": "python",
   "nbconvert_exporter": "python",
   "pygments_lexer": "ipython3",
   "version": "3.7.4"
  }
 },
 "nbformat": 4,
 "nbformat_minor": 2
}
