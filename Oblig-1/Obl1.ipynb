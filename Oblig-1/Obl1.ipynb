{
 "cells": [
  {
   "cell_type": "markdown",
   "metadata": {},
   "source": [
    "## Oblig 1 in NLP \n",
    "### Exercise 1"
   ]
  },
  {
   "cell_type": "code",
   "execution_count": 48,
   "metadata": {},
   "outputs": [],
   "source": [
    "import nltk\n",
    "from nltk.corpus import brown\n",
    "import pandas as pd\n",
    "from nltk import pos_tag"
   ]
  },
  {
   "cell_type": "code",
   "execution_count": 49,
   "metadata": {},
   "outputs": [],
   "source": [
    "labels = ['he', 'him', 'she','her']\n",
    "genres = ['news','fiction','religion','government','romance']"
   ]
  },
  {
   "cell_type": "code",
   "execution_count": 50,
   "metadata": {},
   "outputs": [
    {
     "name": "stdout",
     "output_type": "stream",
     "text": [
      "6796\n"
     ]
    },
    {
     "data": {
      "text/html": [
       "<div>\n",
       "<style scoped>\n",
       "    .dataframe tbody tr th:only-of-type {\n",
       "        vertical-align: middle;\n",
       "    }\n",
       "\n",
       "    .dataframe tbody tr th {\n",
       "        vertical-align: top;\n",
       "    }\n",
       "\n",
       "    .dataframe thead th {\n",
       "        text-align: right;\n",
       "    }\n",
       "</style>\n",
       "<table border=\"1\" class=\"dataframe\">\n",
       "  <thead>\n",
       "    <tr style=\"text-align: right;\">\n",
       "      <th></th>\n",
       "      <th>news</th>\n",
       "      <th>fiction</th>\n",
       "      <th>religion</th>\n",
       "      <th>government</th>\n",
       "      <th>romance</th>\n",
       "      <th>total</th>\n",
       "    </tr>\n",
       "  </thead>\n",
       "  <tbody>\n",
       "    <tr>\n",
       "      <th>he</th>\n",
       "      <td>642</td>\n",
       "      <td>1308</td>\n",
       "      <td>206</td>\n",
       "      <td>169</td>\n",
       "      <td>1068</td>\n",
       "      <td>3393</td>\n",
       "    </tr>\n",
       "    <tr>\n",
       "      <th>her</th>\n",
       "      <td>121</td>\n",
       "      <td>413</td>\n",
       "      <td>8</td>\n",
       "      <td>3</td>\n",
       "      <td>680</td>\n",
       "      <td>1225</td>\n",
       "    </tr>\n",
       "    <tr>\n",
       "      <th>him</th>\n",
       "      <td>93</td>\n",
       "      <td>382</td>\n",
       "      <td>94</td>\n",
       "      <td>26</td>\n",
       "      <td>340</td>\n",
       "      <td>935</td>\n",
       "    </tr>\n",
       "    <tr>\n",
       "      <th>she</th>\n",
       "      <td>77</td>\n",
       "      <td>425</td>\n",
       "      <td>12</td>\n",
       "      <td>1</td>\n",
       "      <td>728</td>\n",
       "      <td>1243</td>\n",
       "    </tr>\n",
       "  </tbody>\n",
       "</table>\n",
       "</div>"
      ],
      "text/plain": [
       "     news  fiction  religion  government  romance  total\n",
       "he    642     1308       206         169     1068   3393\n",
       "her   121      413         8           3      680   1225\n",
       "him    93      382        94          26      340    935\n",
       "she    77      425        12           1      728   1243"
      ]
     },
     "execution_count": 50,
     "metadata": {},
     "output_type": "execute_result"
    }
   ],
   "source": [
    "cond = nltk.ConditionalFreqDist([(genre, word.lower()) \n",
    "                                 for genre in genres\n",
    "                                 for word in brown.words(categories=genre) \n",
    "                                 if word.lower() in labels])\n",
    "df=pd.DataFrame(cond, columns=genres)\n",
    "df.fillna(0)\n",
    "freq_labels = df.sum(axis = 1, skipna = True)\n",
    "df['total'] = freq_labels.to_frame()\n",
    "\n",
    "sum_genres = df.sum(axis = 0, skipna = True) \n",
    "modDfObj = df.append(sum_genres, ignore_index=True)\n",
    "\n",
    "total = modDfObj['total'][4]\n",
    "print(total)\n",
    "df\n"
   ]
  },
  {
   "cell_type": "code",
   "execution_count": null,
   "metadata": {},
   "outputs": [],
   "source": []
  },
  {
   "cell_type": "code",
   "execution_count": null,
   "metadata": {},
   "outputs": [],
   "source": []
  },
  {
   "cell_type": "code",
   "execution_count": 51,
   "metadata": {},
   "outputs": [
    {
     "data": {
      "image/png": "[encoded data removed]",
      "text/plain": [
       "<Figure size 432x288 with 1 Axes>"
      ]
     },
     "metadata": {
      "needs_background": "light"
     },
     "output_type": "display_data"
    },
    {
     "data": {
      "text/plain": [
       "<matplotlib.axes._subplots.AxesSubplot at 0x7f81051413c8>"
      ]
     },
     "execution_count": 51,
     "metadata": {},
     "output_type": "execute_result"
    }
   ],
   "source": [
    "%matplotlib inline\n",
    "cond.plot()"
   ]
  },
  {
   "cell_type": "code",
   "execution_count": 52,
   "metadata": {},
   "outputs": [],
   "source": [
    "# From the observations we can see that the masculine forms are more frequent than the feminine forms across all\n",
    "# genres. The objective forms has an close frequency throughout the chart."
   ]
  },
  {
   "cell_type": "code",
   "execution_count": 53,
   "metadata": {},
   "outputs": [
    {
     "data": {
      "text/html": [
       "<div>\n",
       "<style scoped>\n",
       "    .dataframe tbody tr th:only-of-type {\n",
       "        vertical-align: middle;\n",
       "    }\n",
       "\n",
       "    .dataframe tbody tr th {\n",
       "        vertical-align: top;\n",
       "    }\n",
       "\n",
       "    .dataframe thead th {\n",
       "        text-align: right;\n",
       "    }\n",
       "</style>\n",
       "<table border=\"1\" class=\"dataframe\">\n",
       "  <thead>\n",
       "    <tr style=\"text-align: right;\">\n",
       "      <th></th>\n",
       "      <th>news</th>\n",
       "      <th>fiction</th>\n",
       "      <th>religion</th>\n",
       "      <th>government</th>\n",
       "      <th>romance</th>\n",
       "    </tr>\n",
       "  </thead>\n",
       "  <tbody>\n",
       "    <tr>\n",
       "      <th>nom_form</th>\n",
       "      <td>719</td>\n",
       "      <td>1733</td>\n",
       "      <td>218</td>\n",
       "      <td>170</td>\n",
       "      <td>1796</td>\n",
       "    </tr>\n",
       "    <tr>\n",
       "      <th>obj_form</th>\n",
       "      <td>214</td>\n",
       "      <td>795</td>\n",
       "      <td>102</td>\n",
       "      <td>29</td>\n",
       "      <td>1020</td>\n",
       "    </tr>\n",
       "  </tbody>\n",
       "</table>\n",
       "</div>"
      ],
      "text/plain": [
       "          news  fiction  religion  government  romance\n",
       "nom_form   719     1733       218         170     1796\n",
       "obj_form   214      795       102          29     1020"
      ]
     },
     "execution_count": 53,
     "metadata": {},
     "output_type": "execute_result"
    }
   ],
   "source": [
    "tk = nltk.ConditionalFreqDist() \n",
    "\n",
    "for genre in genres:\n",
    "    for word in brown.words(categories=genre):\n",
    "        w = word.lower()\n",
    "        if w in labels:\n",
    "            if w == 'he' or w == 'she':\n",
    "                tk[genre]['nom_form'] += 1\n",
    "            elif w == 'him' or w == 'her':\n",
    "                tk[genre]['obj_form'] += 1\n",
    "                \n",
    "df1=pd.DataFrame(tk, columns=genres)\n",
    "df1.fillna(0)"
   ]
  },
  {
   "cell_type": "code",
   "execution_count": 54,
   "metadata": {},
   "outputs": [
    {
     "data": {
      "text/html": [
       "<div>\n",
       "<style scoped>\n",
       "    .dataframe tbody tr th:only-of-type {\n",
       "        vertical-align: middle;\n",
       "    }\n",
       "\n",
       "    .dataframe tbody tr th {\n",
       "        vertical-align: top;\n",
       "    }\n",
       "\n",
       "    .dataframe thead th {\n",
       "        text-align: right;\n",
       "    }\n",
       "</style>\n",
       "<table border=\"1\" class=\"dataframe\">\n",
       "  <thead>\n",
       "    <tr style=\"text-align: right;\">\n",
       "      <th></th>\n",
       "      <th>he</th>\n",
       "      <th>him</th>\n",
       "      <th>she</th>\n",
       "      <th>her</th>\n",
       "    </tr>\n",
       "  </thead>\n",
       "  <tbody>\n",
       "    <tr>\n",
       "      <th>0</th>\n",
       "      <td>0.499</td>\n",
       "      <td>0.138</td>\n",
       "      <td>0.183</td>\n",
       "      <td>0.18</td>\n",
       "    </tr>\n",
       "  </tbody>\n",
       "</table>\n",
       "</div>"
      ],
      "text/plain": [
       "      he    him    she   her\n",
       "0  0.499  0.138  0.183  0.18"
      ]
     },
     "execution_count": 54,
     "metadata": {},
     "output_type": "execute_result"
    }
   ],
   "source": [
    "\n",
    "he = float(\"{0:.3f}\".format(freq_labels['he'] / total))\n",
    "him = float(\"{0:.3f}\".format(freq_labels['him'] / total))\n",
    "she = float(\"{0:.3f}\".format(freq_labels['she'] / total))\n",
    "her = float(\"{0:.3f}\".format(freq_labels['her'] / total))\n",
    "data = [ [(he) ,(him) ,(she), (her)]]\n",
    "df = pd.DataFrame(data, columns = ['he', 'him','she','her'])\n",
    "df"
   ]
  },
  {
   "cell_type": "code",
   "execution_count": 55,
   "metadata": {},
   "outputs": [],
   "source": [
    "brown_tagged = brown.tagged_words(categories=genres, tagset='universal')\n",
    "brown_tagged_pron = [word.lower() for (word, tag) in brown_tagged if tag == 'PRON']\n",
    "\n",
    "pos_tagged = pos_tag(brown_tagged_pron)\n",
    "labels = ['he', 'him', 'she','her','hers','his']\n",
    "labels.sort()\n",
    "tagged_words = [\n",
    "            (word,tag) \n",
    "                for (word,tag) in pos_tagged \n",
    "                    if word.lower() in labels \n",
    "                    if tag == 'PRP$'\n",
    "                    or tag == 'PRP']"
   ]
  },
  {
   "cell_type": "code",
   "execution_count": null,
   "metadata": {},
   "outputs": [],
   "source": []
  },
  {
   "cell_type": "code",
   "execution_count": 56,
   "metadata": {},
   "outputs": [
    {
     "data": {
      "text/html": [
       "<div>\n",
       "<style scoped>\n",
       "    .dataframe tbody tr th:only-of-type {\n",
       "        vertical-align: middle;\n",
       "    }\n",
       "\n",
       "    .dataframe tbody tr th {\n",
       "        vertical-align: top;\n",
       "    }\n",
       "\n",
       "    .dataframe thead th {\n",
       "        text-align: right;\n",
       "    }\n",
       "</style>\n",
       "<table border=\"1\" class=\"dataframe\">\n",
       "  <thead>\n",
       "    <tr style=\"text-align: right;\">\n",
       "      <th></th>\n",
       "      <th>he</th>\n",
       "      <th>her</th>\n",
       "      <th>hers</th>\n",
       "      <th>him</th>\n",
       "      <th>his</th>\n",
       "      <th>she</th>\n",
       "    </tr>\n",
       "  </thead>\n",
       "  <tbody>\n",
       "    <tr>\n",
       "      <th>PRP</th>\n",
       "      <td>3393.0</td>\n",
       "      <td>39</td>\n",
       "      <td>0</td>\n",
       "      <td>935.0</td>\n",
       "      <td>0.0</td>\n",
       "      <td>1243.0</td>\n",
       "    </tr>\n",
       "    <tr>\n",
       "      <th>PRP$</th>\n",
       "      <td>0.0</td>\n",
       "      <td>397</td>\n",
       "      <td>0</td>\n",
       "      <td>0.0</td>\n",
       "      <td>17.0</td>\n",
       "      <td>0.0</td>\n",
       "    </tr>\n",
       "  </tbody>\n",
       "</table>\n",
       "</div>"
      ],
      "text/plain": [
       "          he  her  hers    him   his     she\n",
       "PRP   3393.0   39     0  935.0   0.0  1243.0\n",
       "PRP$     0.0  397     0    0.0  17.0     0.0"
      ]
     },
     "execution_count": 56,
     "metadata": {},
     "output_type": "execute_result"
    }
   ],
   "source": [
    "cond = nltk.ConditionalFreqDist(tagged_words)\n",
    "\n",
    "df2=pd.DataFrame(cond, columns=labels).fillna(0)\n",
    "df2"
   ]
  },
  {
   "cell_type": "code",
   "execution_count": 57,
   "metadata": {},
   "outputs": [
    {
     "data": {
      "text/html": [
       "<div>\n",
       "<style scoped>\n",
       "    .dataframe tbody tr th:only-of-type {\n",
       "        vertical-align: middle;\n",
       "    }\n",
       "\n",
       "    .dataframe tbody tr th {\n",
       "        vertical-align: top;\n",
       "    }\n",
       "\n",
       "    .dataframe thead th {\n",
       "        text-align: right;\n",
       "    }\n",
       "</style>\n",
       "<table border=\"1\" class=\"dataframe\">\n",
       "  <thead>\n",
       "    <tr style=\"text-align: right;\">\n",
       "      <th></th>\n",
       "      <th>he</th>\n",
       "      <th>him</th>\n",
       "      <th>she</th>\n",
       "      <th>her</th>\n",
       "    </tr>\n",
       "  </thead>\n",
       "  <tbody>\n",
       "    <tr>\n",
       "      <th>0</th>\n",
       "      <td>0.499</td>\n",
       "      <td>0.138</td>\n",
       "      <td>0.183</td>\n",
       "      <td>0.18</td>\n",
       "    </tr>\n",
       "  </tbody>\n",
       "</table>\n",
       "</div>"
      ],
      "text/plain": [
       "      he    him    she   her\n",
       "0  0.499  0.138  0.183  0.18"
      ]
     },
     "execution_count": 57,
     "metadata": {},
     "output_type": "execute_result"
    }
   ],
   "source": [
    "her = float(\"{0:.3f}\".format(df2['her'].PRP / total))\n",
    "he = float(\"{0:.3f}\".format(df2['he'].PRP / total))\n",
    "she = float(\"{0:.3f}\".format(df2['she'].PRP / total))\n",
    "him = float(\"{0:.3f}\".format(df2['him'].PRP / total))\n",
    "data = [ [(he) ,(him) ,(she), (her)]]\n",
    "df_new = pd.DataFrame(data, columns = ['he', 'him','she','her'])\n",
    "df"
   ]
  },
  {
   "cell_type": "code",
   "execution_count": 58,
   "metadata": {},
   "outputs": [
    {
     "data": {
      "text/html": [
       "<div>\n",
       "<style scoped>\n",
       "    .dataframe tbody tr th:only-of-type {\n",
       "        vertical-align: middle;\n",
       "    }\n",
       "\n",
       "    .dataframe tbody tr th {\n",
       "        vertical-align: top;\n",
       "    }\n",
       "\n",
       "    .dataframe thead th {\n",
       "        text-align: right;\n",
       "    }\n",
       "</style>\n",
       "<table border=\"1\" class=\"dataframe\">\n",
       "  <thead>\n",
       "    <tr style=\"text-align: right;\">\n",
       "      <th></th>\n",
       "      <th>he</th>\n",
       "      <th>him</th>\n",
       "      <th>she</th>\n",
       "      <th>her</th>\n",
       "    </tr>\n",
       "  </thead>\n",
       "  <tbody>\n",
       "    <tr>\n",
       "      <th>0</th>\n",
       "      <td>0.499</td>\n",
       "      <td>0.138</td>\n",
       "      <td>0.183</td>\n",
       "      <td>0.006</td>\n",
       "    </tr>\n",
       "  </tbody>\n",
       "</table>\n",
       "</div>"
      ],
      "text/plain": [
       "      he    him    she    her\n",
       "0  0.499  0.138  0.183  0.006"
      ]
     },
     "execution_count": 58,
     "metadata": {},
     "output_type": "execute_result"
    }
   ],
   "source": [
    "df_new"
   ]
  },
  {
   "cell_type": "code",
   "execution_count": null,
   "metadata": {},
   "outputs": [],
   "source": []
  },
  {
   "cell_type": "code",
   "execution_count": null,
   "metadata": {},
   "outputs": [],
   "source": []
  },
  {
   "cell_type": "markdown",
   "metadata": {},
   "source": [
    "## Exercise 2"
   ]
  },
  {
   "cell_type": "code",
   "execution_count": 98,
   "metadata": {},
   "outputs": [],
   "source": [
    "from urllib import request\n",
    "from nltk import word_tokenize\n",
    "import re, string"
   ]
  },
  {
   "cell_type": "code",
   "execution_count": 99,
   "metadata": {},
   "outputs": [],
   "source": [
    "url = \"https://www.gutenberg.org/files/74/74-0.txt\"\n",
    "response = request.urlopen(url)\n",
    "raw = response.read().decode('utf8')"
   ]
  },
  {
   "cell_type": "code",
   "execution_count": 100,
   "metadata": {},
   "outputs": [
    {
     "data": {
      "text/plain": [
       "['CHAPTER', 'I', '“', 'TOM', '!']"
      ]
     },
     "execution_count": 100,
     "metadata": {},
     "output_type": "execute_result"
    }
   ],
   "source": [
    "text = re.search(\"(?<=HARTFORD, 1876.)[\\s\\S]*CONCLUSION\", raw)[0] # lookbehind from conclusion to start of book\n",
    "text = text[:-10] # remove word: conclusion \n",
    "text = text.replace('.','') # replace punctuation with nothing\n",
    "tokens = nltk.word_tokenize(text)\n",
    "tokens[:5] # first five words in book"
   ]
  },
  {
   "cell_type": "code",
   "execution_count": null,
   "metadata": {},
   "outputs": [],
   "source": [
    "# I do not want to case fold the text since some words will loose its meaning, like names etc."
   ]
  },
  {
   "cell_type": "code",
   "execution_count": 118,
   "metadata": {},
   "outputs": [
    {
     "data": {
      "text/html": [
       "<style  type=\"text/css\" >\n",
       "</style><table id=\"T_e4a95efc_d4a1_11e9_b1a5_c925bbea4db5\" ><thead>    <tr>        <th class=\"col_heading level0 col0\" >token</th>        <th class=\"col_heading level0 col1\" >freq</th>    </tr></thead><tbody>\n",
       "                <tr>\n",
       "                                <td id=\"T_e4a95efc_d4a1_11e9_b1a5_c925bbea4db5row0_col0\" class=\"data row0 col0\" >,</td>\n",
       "                        <td id=\"T_e4a95efc_d4a1_11e9_b1a5_c925bbea4db5row0_col1\" class=\"data row0 col1\" >4922</td>\n",
       "            </tr>\n",
       "            <tr>\n",
       "                                <td id=\"T_e4a95efc_d4a1_11e9_b1a5_c925bbea4db5row1_col0\" class=\"data row1 col0\" >the</td>\n",
       "                        <td id=\"T_e4a95efc_d4a1_11e9_b1a5_c925bbea4db5row1_col1\" class=\"data row1 col1\" >3320</td>\n",
       "            </tr>\n",
       "            <tr>\n",
       "                                <td id=\"T_e4a95efc_d4a1_11e9_b1a5_c925bbea4db5row2_col0\" class=\"data row2 col0\" >and</td>\n",
       "                        <td id=\"T_e4a95efc_d4a1_11e9_b1a5_c925bbea4db5row2_col1\" class=\"data row2 col1\" >2942</td>\n",
       "            </tr>\n",
       "            <tr>\n",
       "                                <td id=\"T_e4a95efc_d4a1_11e9_b1a5_c925bbea4db5row3_col0\" class=\"data row3 col0\" >a</td>\n",
       "                        <td id=\"T_e4a95efc_d4a1_11e9_b1a5_c925bbea4db5row3_col1\" class=\"data row3 col1\" >1754</td>\n",
       "            </tr>\n",
       "            <tr>\n",
       "                                <td id=\"T_e4a95efc_d4a1_11e9_b1a5_c925bbea4db5row4_col0\" class=\"data row4 col0\" >to</td>\n",
       "                        <td id=\"T_e4a95efc_d4a1_11e9_b1a5_c925bbea4db5row4_col1\" class=\"data row4 col1\" >1703</td>\n",
       "            </tr>\n",
       "            <tr>\n",
       "                                <td id=\"T_e4a95efc_d4a1_11e9_b1a5_c925bbea4db5row5_col0\" class=\"data row5 col0\" >“</td>\n",
       "                        <td id=\"T_e4a95efc_d4a1_11e9_b1a5_c925bbea4db5row5_col1\" class=\"data row5 col1\" >1526</td>\n",
       "            </tr>\n",
       "            <tr>\n",
       "                                <td id=\"T_e4a95efc_d4a1_11e9_b1a5_c925bbea4db5row6_col0\" class=\"data row6 col0\" >”</td>\n",
       "                        <td id=\"T_e4a95efc_d4a1_11e9_b1a5_c925bbea4db5row6_col1\" class=\"data row6 col1\" >1519</td>\n",
       "            </tr>\n",
       "            <tr>\n",
       "                                <td id=\"T_e4a95efc_d4a1_11e9_b1a5_c925bbea4db5row7_col0\" class=\"data row7 col0\" >of</td>\n",
       "                        <td id=\"T_e4a95efc_d4a1_11e9_b1a5_c925bbea4db5row7_col1\" class=\"data row7 col1\" >1418</td>\n",
       "            </tr>\n",
       "            <tr>\n",
       "                                <td id=\"T_e4a95efc_d4a1_11e9_b1a5_c925bbea4db5row8_col0\" class=\"data row8 col0\" >was</td>\n",
       "                        <td id=\"T_e4a95efc_d4a1_11e9_b1a5_c925bbea4db5row8_col1\" class=\"data row8 col1\" >1173</td>\n",
       "            </tr>\n",
       "            <tr>\n",
       "                                <td id=\"T_e4a95efc_d4a1_11e9_b1a5_c925bbea4db5row9_col0\" class=\"data row9 col0\" >it</td>\n",
       "                        <td id=\"T_e4a95efc_d4a1_11e9_b1a5_c925bbea4db5row9_col1\" class=\"data row9 col1\" >1122</td>\n",
       "            </tr>\n",
       "            <tr>\n",
       "                                <td id=\"T_e4a95efc_d4a1_11e9_b1a5_c925bbea4db5row10_col0\" class=\"data row10 col0\" >I</td>\n",
       "                        <td id=\"T_e4a95efc_d4a1_11e9_b1a5_c925bbea4db5row10_col1\" class=\"data row10 col1\" >1003</td>\n",
       "            </tr>\n",
       "            <tr>\n",
       "                                <td id=\"T_e4a95efc_d4a1_11e9_b1a5_c925bbea4db5row11_col0\" class=\"data row11 col0\" >that</td>\n",
       "                        <td id=\"T_e4a95efc_d4a1_11e9_b1a5_c925bbea4db5row11_col1\" class=\"data row11 col1\" >949</td>\n",
       "            </tr>\n",
       "            <tr>\n",
       "                                <td id=\"T_e4a95efc_d4a1_11e9_b1a5_c925bbea4db5row12_col0\" class=\"data row12 col0\" >he</td>\n",
       "                        <td id=\"T_e4a95efc_d4a1_11e9_b1a5_c925bbea4db5row12_col1\" class=\"data row12 col1\" >918</td>\n",
       "            </tr>\n",
       "            <tr>\n",
       "                                <td id=\"T_e4a95efc_d4a1_11e9_b1a5_c925bbea4db5row13_col0\" class=\"data row13 col0\" >in</td>\n",
       "                        <td id=\"T_e4a95efc_d4a1_11e9_b1a5_c925bbea4db5row13_col1\" class=\"data row13 col1\" >902</td>\n",
       "            </tr>\n",
       "            <tr>\n",
       "                                <td id=\"T_e4a95efc_d4a1_11e9_b1a5_c925bbea4db5row14_col0\" class=\"data row14 col0\" >--</td>\n",
       "                        <td id=\"T_e4a95efc_d4a1_11e9_b1a5_c925bbea4db5row14_col1\" class=\"data row14 col1\" >845</td>\n",
       "            </tr>\n",
       "            <tr>\n",
       "                                <td id=\"T_e4a95efc_d4a1_11e9_b1a5_c925bbea4db5row15_col0\" class=\"data row15 col0\" >'s</td>\n",
       "                        <td id=\"T_e4a95efc_d4a1_11e9_b1a5_c925bbea4db5row15_col1\" class=\"data row15 col1\" >775</td>\n",
       "            </tr>\n",
       "            <tr>\n",
       "                                <td id=\"T_e4a95efc_d4a1_11e9_b1a5_c925bbea4db5row16_col0\" class=\"data row16 col0\" >you</td>\n",
       "                        <td id=\"T_e4a95efc_d4a1_11e9_b1a5_c925bbea4db5row16_col1\" class=\"data row16 col1\" >774</td>\n",
       "            </tr>\n",
       "            <tr>\n",
       "                                <td id=\"T_e4a95efc_d4a1_11e9_b1a5_c925bbea4db5row17_col0\" class=\"data row17 col0\" >his</td>\n",
       "                        <td id=\"T_e4a95efc_d4a1_11e9_b1a5_c925bbea4db5row17_col1\" class=\"data row17 col1\" >772</td>\n",
       "            </tr>\n",
       "            <tr>\n",
       "                                <td id=\"T_e4a95efc_d4a1_11e9_b1a5_c925bbea4db5row18_col0\" class=\"data row18 col0\" >Tom</td>\n",
       "                        <td id=\"T_e4a95efc_d4a1_11e9_b1a5_c925bbea4db5row18_col1\" class=\"data row18 col1\" >755</td>\n",
       "            </tr>\n",
       "            <tr>\n",
       "                                <td id=\"T_e4a95efc_d4a1_11e9_b1a5_c925bbea4db5row19_col0\" class=\"data row19 col0\" >!</td>\n",
       "                        <td id=\"T_e4a95efc_d4a1_11e9_b1a5_c925bbea4db5row19_col1\" class=\"data row19 col1\" >644</td>\n",
       "            </tr>\n",
       "    </tbody></table>"
      ],
      "text/plain": [
       "<pandas.io.formats.style.Styler at 0x7f8104724978>"
      ]
     },
     "execution_count": 118,
     "metadata": {},
     "output_type": "execute_result"
    }
   ],
   "source": [
    "tokens_freq = nltk.FreqDist(tokens)\n",
    "most_common = tokens_freq.most_common(20)\n",
    "token_df=pd.DataFrame(most_common, columns=['token', 'freq'])\n",
    "token_df.style.hide_index()"
   ]
  },
  {
   "cell_type": "code",
   "execution_count": 212,
   "metadata": {},
   "outputs": [],
   "source": [
    "def n_times(n):\n",
    "    return df.freq == n\n",
    "\n",
    "def between_11_and_50():\n",
    "    x = df.freq > 11\n",
    "    y = df.freq < 50\n",
    "    return x & y\n",
    "\n",
    "def between_50_and_100():\n",
    "    x = df.freq > 50\n",
    "    y = df.freq < 100\n",
    "    return x & y\n",
    "\n",
    "def from_51_to_100():\n",
    "    x = df.freq >= 51\n",
    "    y = df.freq <= 100\n",
    "    return x & y\n",
    "    "
   ]
  },
  {
   "cell_type": "code",
   "execution_count": 213,
   "metadata": {},
   "outputs": [],
   "source": [
    "df = pd.DataFrame(tokens_freq.items(), columns=['token', 'freq'])\n",
    "\n",
    "select_n_times = df.loc[n_times(3)]\n",
    "\n",
    "select_one_time = df.loc[df.freq == 1]\n",
    "\n",
    "select_between_11_and_50 = df.loc[between_11_and_50()]\n",
    "\n",
    "select_between_50_and_100 = df.loc[between_50_and_100()]\n",
    "\n",
    "select_larger_than_100 = df.loc[df.freq > 100]\n",
    "\n",
    "select_51_100 = df.loc[from_51_to_100()]\n"
   ]
  },
  {
   "cell_type": "code",
   "execution_count": 214,
   "metadata": {},
   "outputs": [],
   "source": [
    "x = df.loc[df.freq > 3000]"
   ]
  },
  {
   "cell_type": "code",
   "execution_count": 215,
   "metadata": {},
   "outputs": [],
   "source": [
    "a = select_one_time.sum(axis=1).count()\n",
    "b = select_between_11_and_50.sum(axis=1).count()\n",
    "c = select_between_50_and_100.sum(axis=1).count()\n",
    "d = select_larger_than_100.sum(axis=1).count()\n",
    "e = select_51_100.sum(axis=1).count()"
   ]
  },
  {
   "cell_type": "code",
   "execution_count": 221,
   "metadata": {},
   "outputs": [
    {
     "data": {
      "text/html": [
       "<div>\n",
       "<style scoped>\n",
       "    .dataframe tbody tr th:only-of-type {\n",
       "        vertical-align: middle;\n",
       "    }\n",
       "\n",
       "    .dataframe tbody tr th {\n",
       "        vertical-align: top;\n",
       "    }\n",
       "\n",
       "    .dataframe thead th {\n",
       "        text-align: right;\n",
       "    }\n",
       "</style>\n",
       "<table border=\"1\" class=\"dataframe\">\n",
       "  <thead>\n",
       "    <tr style=\"text-align: right;\">\n",
       "      <th></th>\n",
       "      <th>Selectors</th>\n",
       "      <th>Occurrences</th>\n",
       "    </tr>\n",
       "  </thead>\n",
       "  <tbody>\n",
       "    <tr>\n",
       "      <th>0</th>\n",
       "      <td>one time</td>\n",
       "      <td>4180</td>\n",
       "    </tr>\n",
       "    <tr>\n",
       "      <th>1</th>\n",
       "      <td>between 11 and 50</td>\n",
       "      <td>434</td>\n",
       "    </tr>\n",
       "    <tr>\n",
       "      <th>2</th>\n",
       "      <td>between 50 and 100</td>\n",
       "      <td>90</td>\n",
       "    </tr>\n",
       "    <tr>\n",
       "      <th>3</th>\n",
       "      <td>larger than 100</td>\n",
       "      <td>115</td>\n",
       "    </tr>\n",
       "    <tr>\n",
       "      <th>4</th>\n",
       "      <td>51-100</td>\n",
       "      <td>90</td>\n",
       "    </tr>\n",
       "  </tbody>\n",
       "</table>\n",
       "</div>"
      ],
      "text/plain": [
       "            Selectors  Occurrences\n",
       "0            one time         4180\n",
       "1   between 11 and 50          434\n",
       "2  between 50 and 100           90\n",
       "3     larger than 100          115\n",
       "4              51-100           90"
      ]
     },
     "execution_count": 221,
     "metadata": {},
     "output_type": "execute_result"
    }
   ],
   "source": [
    "raw_data = {'Selectors': ['one time', 'between 11 and 50', 'between 50 and 100', 'larger than 100','51-100'], \n",
    "        'Occurrences': [a,b,c,d,e]}\n",
    "df = pd.DataFrame(raw_data, columns = ['Selectors', 'Occurrences'])\n",
    "df"
   ]
  },
  {
   "cell_type": "code",
   "execution_count": 222,
   "metadata": {},
   "outputs": [
    {
     "data": {
      "text/plain": [
       "<matplotlib.axes._subplots.AxesSubplot at 0x7f8101bdacf8>"
      ]
     },
     "execution_count": 222,
     "metadata": {},
     "output_type": "execute_result"
    },
    {
     "data": {
      "image/png": "[encoded data removed]",
      "text/plain": [
       "<Figure size 432x288 with 1 Axes>"
      ]
     },
     "metadata": {
      "needs_background": "light"
     },
     "output_type": "display_data"
    }
   ],
   "source": [
    "df.plot(kind='bar',x='Selectors',y='Occurrences')"
   ]
  },
  {
   "cell_type": "code",
   "execution_count": null,
   "metadata": {},
   "outputs": [],
   "source": [
    "\n"
   ]
  },
  {
   "cell_type": "code",
   "execution_count": null,
   "metadata": {},
   "outputs": [],
   "source": []
  },
  {
   "cell_type": "code",
   "execution_count": null,
   "metadata": {},
   "outputs": [],
   "source": []
  },
  {
   "cell_type": "code",
   "execution_count": null,
   "metadata": {},
   "outputs": [],
   "source": []
  }
 ],
 "metadata": {
  "kernelspec": {
   "display_name": "Python 3",
   "language": "python",
   "name": "python3"
  },
  "language_info": {
   "codemirror_mode": {
    "name": "ipython",
    "version": 3
   },
   "file_extension": ".py",
   "mimetype": "text/x-python",
   "name": "python",
   "nbconvert_exporter": "python",
   "pygments_lexer": "ipython3",
   "version": "3.7.3"
  }
 },
 "nbformat": 4,
 "nbformat_minor": 2
}
