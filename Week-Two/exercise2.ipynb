{
 "cells": [
  {
   "cell_type": "code",
   "execution_count": 1,
   "metadata": {},
   "outputs": [],
   "source": [
    "import nltk\n",
    "from nltk.corpus import brown"
   ]
  },
  {
   "cell_type": "code",
   "execution_count": 2,
   "metadata": {},
   "outputs": [
    {
     "data": {
      "text/plain": [
       "[('The', 'UNK'),\n",
       " ('Fulton', 'UNK'),\n",
       " ('County', 'UNK'),\n",
       " ('Grand', 'UNK'),\n",
       " ('Jury', 'UNK'),\n",
       " ('said', 'UNK'),\n",
       " ('Friday', 'UNK'),\n",
       " ('an', 'UNK'),\n",
       " ('investigation', 'UNK'),\n",
       " ('of', 'UNK'),\n",
       " (\"Atlanta's\", 'UNK'),\n",
       " ('recent', 'UNK'),\n",
       " ('primary', 'UNK'),\n",
       " ('election', 'UNK'),\n",
       " ('produced', 'UNK'),\n",
       " ('``', 'UNK'),\n",
       " ('no', 'UNK'),\n",
       " ('evidence', 'UNK'),\n",
       " (\"''\", 'UNK'),\n",
       " ('that', 'UNK')]"
      ]
     },
     "execution_count": 2,
     "metadata": {},
     "output_type": "execute_result"
    }
   ],
   "source": [
    "uni_tag_words = [x for x in brown.tagged_words(tagset='universial')]\n",
    "uni_tag_words[:20]"
   ]
  },
  {
   "cell_type": "code",
   "execution_count": 5,
   "metadata": {},
   "outputs": [],
   "source": [
    "uni_sal = nltk.corpus.brown.tagged_words(tagset='universal')"
   ]
  },
  {
   "cell_type": "code",
   "execution_count": 4,
   "metadata": {},
   "outputs": [
    {
     "data": {
      "text/plain": [
       "[('NOUN', 275558),\n",
       " ('VERB', 182750),\n",
       " ('.', 147565),\n",
       " ('ADP', 144766),\n",
       " ('DET', 137019),\n",
       " ('ADJ', 83721),\n",
       " ('ADV', 56239),\n",
       " ('PRON', 49334),\n",
       " ('CONJ', 38151),\n",
       " ('PRT', 29829),\n",
       " ('NUM', 14874),\n",
       " ('X', 1386)]"
      ]
     },
     "execution_count": 4,
     "metadata": {},
     "output_type": "execute_result"
    }
   ],
   "source": [
    "tag_fd = nltk.FreqDist(tag for (word, tag) in uni_sal)\n",
    "tag_fd.most_common()"
   ]
  },
  {
   "cell_type": "code",
   "execution_count": 35,
   "metadata": {},
   "outputs": [],
   "source": [
    "word_tag_fd = nltk.FreqDist(uni_sal)"
   ]
  },
  {
   "cell_type": "code",
   "execution_count": 36,
   "metadata": {},
   "outputs": [
    {
     "data": {
      "text/plain": [
       "['is', 'was', 'be', 'had', 'are', 'have', 'were', 'would', 'been', 'has']"
      ]
     },
     "execution_count": 36,
     "metadata": {},
     "output_type": "execute_result"
    }
   ],
   "source": [
    "verbs = [wt[0] for (wt, _) in word_tag_fd.most_common() if wt[1] == 'VERB']\n",
    "verbs[:10]"
   ]
  },
  {
   "cell_type": "code",
   "execution_count": 37,
   "metadata": {},
   "outputs": [],
   "source": [
    "from nltk.stem import PorterStemmer \n",
    "from nltk.tokenize import word_tokenize \n",
    "ps = PorterStemmer() \n",
    "words  = [] \n",
    "\n",
    "for w in set(verbs): \n",
    "    words.append(ps.stem(w)) "
   ]
  },
  {
   "cell_type": "code",
   "execution_count": 38,
   "metadata": {},
   "outputs": [
    {
     "data": {
      "text/plain": [
       "['foreshorten',\n",
       " 'equal',\n",
       " 'discov',\n",
       " 'suppos',\n",
       " 'misunderstand',\n",
       " 'underli',\n",
       " 'iron',\n",
       " 'recommend',\n",
       " 'lower',\n",
       " 'held']"
      ]
     },
     "execution_count": 38,
     "metadata": {},
     "output_type": "execute_result"
    }
   ],
   "source": [
    "words[:10]"
   ]
  },
  {
   "cell_type": "code",
   "execution_count": 39,
   "metadata": {},
   "outputs": [],
   "source": [
    "words = nltk.FreqDist(words)"
   ]
  },
  {
   "cell_type": "code",
   "execution_count": 43,
   "metadata": {},
   "outputs": [
    {
     "data": {
      "text/plain": [
       "[('design', 10),\n",
       " ('travel', 9),\n",
       " ('live', 8),\n",
       " ('call', 8),\n",
       " ('ask', 7),\n",
       " ('wait', 7),\n",
       " ('straighten', 7),\n",
       " ('follow', 7),\n",
       " ('complet', 7),\n",
       " ('clean', 7),\n",
       " ('encourag', 7),\n",
       " ('increas', 7),\n",
       " ('rest', 7),\n",
       " ('use', 7),\n",
       " ('look', 7),\n",
       " ('know', 7),\n",
       " ('resolv', 7),\n",
       " ('note', 7),\n",
       " ('develop', 7),\n",
       " ('repeat', 7)]"
      ]
     },
     "execution_count": 43,
     "metadata": {},
     "output_type": "execute_result"
    }
   ],
   "source": [
    "words.most_common(20)"
   ]
  },
  {
   "cell_type": "code",
   "execution_count": null,
   "metadata": {},
   "outputs": [],
   "source": []
  }
 ],
 "metadata": {
  "kernelspec": {
   "display_name": "Python 3",
   "language": "python",
   "name": "python3"
  },
  "language_info": {
   "codemirror_mode": {
    "name": "ipython",
    "version": 3
   },
   "file_extension": ".py",
   "mimetype": "text/x-python",
   "name": "python",
   "nbconvert_exporter": "python",
   "pygments_lexer": "ipython3",
   "version": "3.7.3"
  }
 },
 "nbformat": 4,
 "nbformat_minor": 2
}
