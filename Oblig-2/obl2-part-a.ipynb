{
 "cells": [
  {
   "cell_type": "markdown",
   "metadata": {},
   "source": [
    "### IN4080 2019, Mandatory assignment 2, part A"
   ]
  },
  {
   "cell_type": "code",
   "execution_count": 12,
   "metadata": {},
   "outputs": [],
   "source": [
    "import nltk\n",
    "import random\n",
    "import numpy as np\n",
    "import scipy as sp\n",
    "import sklearn\n",
    "from sklearn.feature_extraction.text import CountVectorizer\n",
    "from sklearn.feature_extraction import DictVectorizer\n",
    "from sklearn.naive_bayes import MultinomialNB\n",
    "from sklearn.naive_bayes import BernoulliNB\n",
    "from sklearn.linear_model import LogisticRegression\n",
    "import pandas as pd\n",
    "from sklearn.preprocessing import OneHotEncoder\n",
    "from sklearn.preprocessing import LabelEncoder\n",
    "from sklearn.model_selection import train_test_split\n",
    "from sklearn.model_selection import cross_val_score\n",
    "from sklearn.pipeline import Pipeline\n",
    "from sklearn.metrics import precision_score, recall_score, f1_score\n",
    "from sklearn.metrics import confusion_matrix\n",
    "import matplotlib.pyplot as plt\n",
    "from nltk.corpus import movie_reviews\n",
    "from sklearn.feature_extraction.text import TfidfVectorizer\n",
    "import itertools\n"
   ]
  },
  {
   "cell_type": "code",
   "execution_count": 13,
   "metadata": {},
   "outputs": [],
   "source": [
    "def plot_confusion_matrix(cm,\n",
    "                          target_names,\n",
    "                          title='Confusion matrix',\n",
    "                          cmap=None,\n",
    "                          normalize=True):   \n",
    "\n",
    "    accuracy = np.trace(cm) / float(np.sum(cm))\n",
    "    misclass = 1 - accuracy\n",
    "\n",
    "    if cmap is None:\n",
    "        cmap = plt.get_cmap('Blues')\n",
    "\n",
    "    plt.figure(figsize=(8, 6))\n",
    "    plt.imshow(cm, interpolation='nearest', cmap=cmap)\n",
    "    plt.title(title)\n",
    "    plt.colorbar()\n",
    "\n",
    "    if target_names is not None:\n",
    "        tick_marks = np.arange(len(target_names))\n",
    "        plt.xticks(tick_marks, target_names, rotation=45)\n",
    "        plt.yticks(tick_marks, target_names)\n",
    "\n",
    "    if normalize:\n",
    "        cm = cm.astype('float') / cm.sum(axis=1)[:, np.newaxis]\n",
    "\n",
    "\n",
    "    thresh = cm.max() / 1.5 if normalize else cm.max() / 2\n",
    "    for i, j in itertools.product(range(cm.shape[0]), range(cm.shape[1])):\n",
    "        if normalize:\n",
    "            plt.text(j, i, \"{:0.4f}\".format(cm[i, j]),\n",
    "                     horizontalalignment=\"center\",\n",
    "                     color=\"white\" if cm[i, j] > thresh else \"black\")\n",
    "        else:\n",
    "            plt.text(j, i, \"{:,}\".format(cm[i, j]),\n",
    "                     horizontalalignment=\"center\",\n",
    "                     color=\"white\" if cm[i, j] > thresh else \"black\")\n",
    "\n",
    "\n",
    "    plt.tight_layout()\n",
    "    plt.ylabel('True label')\n",
    "    plt.xlabel('Predicted label\\naccuracy={:0.4f}; misclass={:0.4f}'.format(accuracy, misclass))\n",
    "    plt.show()"
   ]
  },
  {
   "cell_type": "markdown",
   "metadata": {},
   "source": [
    "### Ex 1 First classifier"
   ]
  },
  {
   "cell_type": "code",
   "execution_count": 14,
   "metadata": {},
   "outputs": [],
   "source": [
    "def createSets(movie_dev):\n",
    "    X = []\n",
    "    y = []\n",
    "    for movie in movie_dev:\n",
    "        X.append(movie[0])\n",
    "        y.append(movie[1])\n",
    "\n",
    "    label_encoder = LabelEncoder()\n",
    "    y_labels = label_encoder.fit_transform(y)\n",
    "    return X, y"
   ]
  },
  {
   "cell_type": "code",
   "execution_count": 15,
   "metadata": {},
   "outputs": [],
   "source": [
    "raw_movie_docs = [(movie_reviews.raw(fileid), category) for\n",
    "                    category in movie_reviews.categories() for fileid in\n",
    "                    movie_reviews.fileids(category)]"
   ]
  },
  {
   "cell_type": "code",
   "execution_count": 16,
   "metadata": {},
   "outputs": [],
   "source": [
    "random.seed(2920)\n",
    "random.shuffle(raw_movie_docs)\n",
    "movie_test = raw_movie_docs[:200]\n",
    "movie_dev = raw_movie_docs[200:]"
   ]
  },
  {
   "cell_type": "code",
   "execution_count": 17,
   "metadata": {},
   "outputs": [],
   "source": [
    "X, labels = createSets(movie_dev)"
   ]
  },
  {
   "cell_type": "code",
   "execution_count": 18,
   "metadata": {},
   "outputs": [],
   "source": [
    "X_train, X_validation, Y_train, Y_validation = train_test_split(X, labels, test_size=0.125, random_state=42)"
   ]
  },
  {
   "cell_type": "code",
   "execution_count": 19,
   "metadata": {},
   "outputs": [],
   "source": [
    "v = CountVectorizer()\n",
    "v.fit(X_train)\n",
    "\n",
    "X_train_vectors = v.transform(X_train)\n",
    "X_val_vectors = v.transform(X_validation)"
   ]
  },
  {
   "cell_type": "code",
   "execution_count": 20,
   "metadata": {},
   "outputs": [
    {
     "data": {
      "text/plain": [
       "MultinomialNB(alpha=1.0, class_prior=None, fit_prior=True)"
      ]
     },
     "execution_count": 20,
     "metadata": {},
     "output_type": "execute_result"
    }
   ],
   "source": [
    "clf = MultinomialNB()\n",
    "clf.fit(X_train_vectors, Y_train)"
   ]
  },
  {
   "cell_type": "code",
   "execution_count": 21,
   "metadata": {},
   "outputs": [],
   "source": [
    "pred = clf.predict(X_val_vectors)"
   ]
  },
  {
   "cell_type": "code",
   "execution_count": 22,
   "metadata": {},
   "outputs": [
    {
     "data": {
      "text/plain": [
       "0.8222222222222222"
      ]
     },
     "execution_count": 22,
     "metadata": {},
     "output_type": "execute_result"
    }
   ],
   "source": [
    "clf.score(X_val_vectors, Y_validation)"
   ]
  },
  {
   "cell_type": "code",
   "execution_count": 23,
   "metadata": {},
   "outputs": [],
   "source": [
    "f1 = f1_score(pred, Y_validation, labels=['neg','pos'], average='micro')\n",
    "cm = confusion_matrix(Y_validation, pred)"
   ]
  },
  {
   "cell_type": "code",
   "execution_count": 24,
   "metadata": {},
   "outputs": [
    {
     "data": {
      "image/png": "[encoded data removed]",
      "text/plain": [
       "<Figure size 576x432 with 2 Axes>"
      ]
     },
     "metadata": {
      "needs_background": "light"
     },
     "output_type": "display_data"
    }
   ],
   "source": [
    "plot_confusion_matrix(cm, \n",
    "                      normalize    = False,\n",
    "                      target_names = ['neg', 'pos'],\n",
    "                      title        = \"Confusion Matrix\")"
   ]
  },
  {
   "cell_type": "code",
   "execution_count": 25,
   "metadata": {},
   "outputs": [],
   "source": [
    "def multi_nb_exp(X, y):\n",
    "    text_clf = Pipeline([\n",
    "                         ('vect', CountVectorizer()),\n",
    "                         ('clf', MultinomialNB())])\n",
    "    X_train, X_validation, Y_train, Y_validation = train_test_split(X, y, test_size=0.125, random_state=42)\n",
    "    text_clf.fit(X_train, Y_train)\n",
    "    predicted = text_clf.predict(X_validation)\n",
    "    acc = text_clf.score(X_validation, Y_validation) \n",
    "    return acc, predicted "
   ]
  },
  {
   "cell_type": "code",
   "execution_count": 26,
   "metadata": {},
   "outputs": [
    {
     "name": "stdout",
     "output_type": "stream",
     "text": [
      "0.8222222222222222\n",
      "CPU times: user 1.22 s, sys: 5.54 ms, total: 1.22 s\n",
      "Wall time: 1.02 s\n"
     ]
    }
   ],
   "source": [
    "%%time\n",
    "(acc, pred) = multi_nb_exp(X, labels)\n",
    "print(acc)"
   ]
  },
  {
   "cell_type": "code",
   "execution_count": 27,
   "metadata": {},
   "outputs": [
    {
     "name": "stdout",
     "output_type": "stream",
     "text": [
      "Accuracy of Model with Cross Validation is: 81.33396807142401\n"
     ]
    }
   ],
   "source": [
    "def n_fold(clf, x, y, n=9):\n",
    "    acc = cross_val_score(clf, x, y, cv=n, n_jobs=-1) # same as using K-fold with splits.\n",
    "    return acc\n",
    "\n",
    "text_clf = Pipeline([\n",
    "                     ('vect', CountVectorizer()),\n",
    "                     ('clf', MultinomialNB())])\n",
    "\n",
    "acc = n_fold(text_clf, X, labels)\n",
    "#get the mean of each fold \n",
    "print(\"Accuracy of Model with Cross Validation is:\",acc.mean() * 100)"
   ]
  },
  {
   "cell_type": "code",
   "execution_count": 28,
   "metadata": {},
   "outputs": [],
   "source": [
    "def scores(model, X_validation, Y_validation):\n",
    "    predicted = model.predict(X_validation)\n",
    "    precision = precision_score(Y_validation, predicted)\n",
    "    recall = recall_score(Y_validation, predicted)\n",
    "    f1 = f1_score(Y_validation, predicted)\n",
    "    print(\"Precision of Modelis:\",precision * 100)\n",
    "    print(\"Recall of Model is:\",recall * 100)\n",
    "    print(\"F1 score of Model is:\",f1 * 100)\n",
    "    return f1, precision, recall"
   ]
  },
  {
   "cell_type": "code",
   "execution_count": null,
   "metadata": {},
   "outputs": [],
   "source": []
  },
  {
   "cell_type": "markdown",
   "metadata": {},
   "source": [
    "### 1.2 Ex 2 Parameters of the vectorizer \n",
    "[False, True] and ngram_range vary over [[1,1], [1,2], [1,3]].\n",
    "Run the experiment with 9-fold cross-validation and report the accuracy with the 6 different settings."
   ]
  },
  {
   "cell_type": "code",
   "execution_count": 30,
   "metadata": {},
   "outputs": [
    {
     "data": {
      "text/html": [
       "<div>\n",
       "<style scoped>\n",
       "    .dataframe tbody tr th:only-of-type {\n",
       "        vertical-align: middle;\n",
       "    }\n",
       "\n",
       "    .dataframe tbody tr th {\n",
       "        vertical-align: top;\n",
       "    }\n",
       "\n",
       "    .dataframe thead th {\n",
       "        text-align: right;\n",
       "    }\n",
       "</style>\n",
       "<table border=\"1\" class=\"dataframe\">\n",
       "  <thead>\n",
       "    <tr style=\"text-align: right;\">\n",
       "      <th></th>\n",
       "      <th>(1,1)</th>\n",
       "      <th>(1,2)</th>\n",
       "      <th>(1,3)</th>\n",
       "    </tr>\n",
       "  </thead>\n",
       "  <tbody>\n",
       "    <tr>\n",
       "      <td>True</td>\n",
       "      <td>82.337017</td>\n",
       "      <td>85.615942</td>\n",
       "      <td>85.113711</td>\n",
       "    </tr>\n",
       "    <tr>\n",
       "      <td>False</td>\n",
       "      <td>81.333968</td>\n",
       "      <td>83.225367</td>\n",
       "      <td>82.557301</td>\n",
       "    </tr>\n",
       "  </tbody>\n",
       "</table>\n",
       "</div>"
      ],
      "text/plain": [
       "           (1,1)      (1,2)      (1,3)\n",
       "True   82.337017  85.615942  85.113711\n",
       "False  81.333968  83.225367  82.557301"
      ]
     },
     "execution_count": 30,
     "metadata": {},
     "output_type": "execute_result"
    }
   ],
   "source": [
    "def arg_experiment():\n",
    "    k = [True, False]\n",
    "    ngram_range_results = []\n",
    "    ngram_range = [(1,1), (1,2),(1,3)]\n",
    "\n",
    "    results = []\n",
    "    for binary in k:\n",
    "        liste = []\n",
    "        for ngram in ngram_range:\n",
    "            count_experiment_clf = Pipeline([\n",
    "                             ('vect', CountVectorizer(ngram_range=ngram, binary=binary)),\n",
    "                             ('clf', MultinomialNB())])\n",
    "            acc = cross_val_score(count_experiment_clf, X, labels, cv=9, n_jobs=-1)\n",
    "\n",
    "            liste.append(acc.mean() * 100)\n",
    "        ngram_range_results.append(liste)\n",
    "\n",
    "    df = pd.DataFrame(ngram_range_results, index=['True','False'], columns=['(1,1)','(1,2)','(1,3)'])\n",
    "    return df\n",
    "df = arg_experiment()\n",
    "df"
   ]
  },
  {
   "cell_type": "markdown",
   "metadata": {},
   "source": [
    "## Ex 3  Logistic Regression"
   ]
  },
  {
   "cell_type": "code",
   "execution_count": 18,
   "metadata": {},
   "outputs": [
    {
     "name": "stdout",
     "output_type": "stream",
     "text": [
      "Accuracy of Model with Cross Validation is: 83.33925570361482\n"
     ]
    }
   ],
   "source": [
    "from warnings import simplefilter\n",
    "# ignore all future warnings\n",
    "simplefilter(action='ignore', category=FutureWarning)\n",
    "\n",
    "log_reg_clf = Pipeline([\n",
    "     ('vect', CountVectorizer()),\n",
    "     ('clf', LogisticRegression())])\n",
    "\n",
    "acc = cross_val_score(log_reg_clf, X, labels, cv=9, n_jobs=-1)\n",
    "print(\"Accuracy of Model with Cross Validation is:\",acc.mean() * 100)"
   ]
  },
  {
   "cell_type": "code",
   "execution_count": 19,
   "metadata": {},
   "outputs": [
    {
     "name": "stdout",
     "output_type": "stream",
     "text": [
      "Accuracy of Model with Cross Validation is: 83.33925570361482\n"
     ]
    }
   ],
   "source": [
    "def logistic_reg():\n",
    "    from warnings import simplefilter\n",
    "    # ignore all future warnings\n",
    "    simplefilter(action='ignore', category=FutureWarning)\n",
    "\n",
    "    log_reg_clf = Pipeline([\n",
    "         ('vect', CountVectorizer()),\n",
    "         ('clf', LogisticRegression())])\n",
    "\n",
    "    acc = cross_val_score(log_reg_clf, X, labels, cv=9, n_jobs=-1)\n",
    "    return acc\n",
    "\n",
    "acc = logistic_reg()\n",
    "print(\"Accuracy of Model with Cross Validation is:\",acc.mean() * 100)"
   ]
  },
  {
   "cell_type": "markdown",
   "metadata": {},
   "source": [
    "### Ex 4 The Bernoulli model "
   ]
  },
  {
   "cell_type": "code",
   "execution_count": 20,
   "metadata": {},
   "outputs": [],
   "source": [
    "all_words = nltk.FreqDist(w.lower() for w in movie_reviews.words())\n",
    "def document_features(document,n):\n",
    "    word_features = list(all_words)[:n]\n",
    "    document_words = set(document)\n",
    "    features = {}\n",
    "    for word in word_features:\n",
    "        features[word] = (word in document_words)\n",
    "    return features"
   ]
  },
  {
   "cell_type": "code",
   "execution_count": 21,
   "metadata": {},
   "outputs": [],
   "source": [
    "documents = [(list(movie_reviews.words(fileid)), category)\n",
    "             for category in movie_reviews.categories()\n",
    "             for fileid in movie_reviews.fileids(category)]\n",
    "\n",
    "random.shuffle(documents)"
   ]
  },
  {
   "cell_type": "code",
   "execution_count": 22,
   "metadata": {},
   "outputs": [],
   "source": [
    "feature_set = [(document_features(doc,2000), category) for (doc, category) in documents]"
   ]
  },
  {
   "cell_type": "code",
   "execution_count": 23,
   "metadata": {},
   "outputs": [],
   "source": [
    "movie_feat_test = feature_set[:200]\n",
    "movie_feat_dev = feature_set[200:]\n",
    "\n",
    "x, y = createSets(movie_feat_dev)"
   ]
  },
  {
   "cell_type": "code",
   "execution_count": 24,
   "metadata": {},
   "outputs": [],
   "source": [
    "ber_clf = Pipeline([\n",
    "     ('dict_vect', DictVectorizer()),\n",
    "     ('clf', BernoulliNB())])"
   ]
  },
  {
   "cell_type": "code",
   "execution_count": 25,
   "metadata": {},
   "outputs": [
    {
     "name": "stdout",
     "output_type": "stream",
     "text": [
      "Accuracy of Model with Cross Validation is: 79.71621096082957\n"
     ]
    }
   ],
   "source": [
    "acc = cross_val_score(ber_clf, x, y, cv=9, n_jobs=-1) \n",
    "print(\"Accuracy of Model with Cross Validation is:\",acc.mean() * 100)"
   ]
  },
  {
   "cell_type": "markdown",
   "metadata": {},
   "source": [
    "### Ex 5 Logistic regression"
   ]
  },
  {
   "cell_type": "code",
   "execution_count": 52,
   "metadata": {},
   "outputs": [],
   "source": [
    "def freq_experiment(pipeline, n):\n",
    "    feat_set = [(document_features(doc,n), category) for (doc, category) in documents]\n",
    "    movie_feat_test = feat_set[:200]\n",
    "    dev = feat_set[200:]\n",
    "    x, y = createSets(dev)\n",
    "    acc = cross_val_score(pipeline, x, y, cv=9, n_jobs=-1) \n",
    "    return acc"
   ]
  },
  {
   "cell_type": "code",
   "execution_count": 60,
   "metadata": {},
   "outputs": [],
   "source": [
    "def log_clf_freq_experiment(n):\n",
    "    log_clf = Pipeline([\n",
    "         ('vect', DictVectorizer()),\n",
    "         ('clf', LogisticRegression())])\n",
    "    log_clf_freq = []\n",
    "    for i in n:\n",
    "        acc = freq_experiment(log_clf, i)\n",
    "        log_clf_freq.append(acc)\n",
    "    return log_clf_freq\n",
    "\n",
    "def ber_clf_experiment(n):\n",
    "    ber_clf = Pipeline([\n",
    "     ('dict_vect', DictVectorizer()),\n",
    "     ('clf', BernoulliNB())])\n",
    "    ber_clf_freq = []\n",
    "    for i in n:\n",
    "        acc = freq_experiment(ber_clf, i)\n",
    "        ber_clf_freq.append(acc)\n",
    "    return ber_clf_freq"
   ]
  },
  {
   "cell_type": "code",
   "execution_count": 65,
   "metadata": {},
   "outputs": [
    {
     "data": {
      "text/html": [
       "<div>\n",
       "<style scoped>\n",
       "    .dataframe tbody tr th:only-of-type {\n",
       "        vertical-align: middle;\n",
       "    }\n",
       "\n",
       "    .dataframe tbody tr th {\n",
       "        vertical-align: top;\n",
       "    }\n",
       "\n",
       "    .dataframe thead th {\n",
       "        text-align: right;\n",
       "    }\n",
       "</style>\n",
       "<table border=\"1\" class=\"dataframe\">\n",
       "  <thead>\n",
       "    <tr style=\"text-align: right;\">\n",
       "      <th></th>\n",
       "      <th>1000</th>\n",
       "      <th>2000</th>\n",
       "    </tr>\n",
       "  </thead>\n",
       "  <tbody>\n",
       "    <tr>\n",
       "      <td>LogisticRegression</td>\n",
       "      <td>76.376694</td>\n",
       "      <td>78.876468</td>\n",
       "    </tr>\n",
       "    <tr>\n",
       "      <td>BernoulliNB</td>\n",
       "      <td>77.782275</td>\n",
       "      <td>79.716211</td>\n",
       "    </tr>\n",
       "  </tbody>\n",
       "</table>\n",
       "</div>"
      ],
      "text/plain": [
       "                         1000       2000\n",
       "LogisticRegression  76.376694  78.876468\n",
       "BernoulliNB         77.782275  79.716211"
      ]
     },
     "execution_count": 65,
     "metadata": {},
     "output_type": "execute_result"
    }
   ],
   "source": [
    "def ex5_partb():\n",
    "    n = [1000, 2000, 3000, 4000, 5000]\n",
    "    accs_log = log_clf_freq_experiment(n)\n",
    "    accs_ber = ber_clf_experiment(n)\n",
    "    dict1 = {}\n",
    "    for i in range(len(accs_ber)):\n",
    "        dict1[str(n[i])] = [accs_log[i].mean()*100, accs_ber[i].mean()*100]\n",
    "\n",
    "    df = pd.DataFrame(dict1) \n",
    "    df.index = ['LogisticRegression', 'BernoulliNB'] \n",
    "    return df\n",
    "#df = ex5_partb()\n",
    "#df"
   ]
  },
  {
   "cell_type": "markdown",
   "metadata": {},
   "source": [
    "### Bringing on the test set and the best model\n",
    "Exercise 6"
   ]
  },
  {
   "cell_type": "code",
   "execution_count": 163,
   "metadata": {},
   "outputs": [],
   "source": [
    "log_reg_clf = Pipeline([\n",
    "     ('vect', TfidfVectorizer()), # using term frequency - inverted document frequency isted of count vector \n",
    "     ('clf', LogisticRegression())])"
   ]
  },
  {
   "cell_type": "code",
   "execution_count": 164,
   "metadata": {},
   "outputs": [],
   "source": [
    "movie_test_cp = movie_test"
   ]
  },
  {
   "cell_type": "code",
   "execution_count": 165,
   "metadata": {},
   "outputs": [],
   "source": [
    "y = []\n",
    "X_test = []\n",
    "for movie in movie_test_cp:\n",
    "    X_test.append(movie[0])\n",
    "    y.append(movie[1])\n",
    "\n",
    "label_encoder = LabelEncoder()\n",
    "y_test_labels = label_encoder.fit_transform(y)\n",
    "\n"
   ]
  },
  {
   "cell_type": "code",
   "execution_count": 166,
   "metadata": {},
   "outputs": [],
   "source": [
    "X_dev, y_labels_dev = createSets(movie_dev)\n",
    "log_reg_clf.fit(X_dev, y_labels_dev)\n",
    "pred_test = log_reg_clf.predict(X_test)\n",
    "pred_test = label_encoder.fit_transform(pred_test)"
   ]
  },
  {
   "cell_type": "code",
   "execution_count": 167,
   "metadata": {},
   "outputs": [
    {
     "name": "stdout",
     "output_type": "stream",
     "text": [
      "Accuracy of Model is: 83.0\n",
      "Precision of Model is: 83.33333333333334\n",
      "Recall of Model is: 83.33333333333334\n",
      "F1 score of Model is: 83.33333333333334\n"
     ]
    }
   ],
   "source": [
    "precision = precision_score(y_test_labels, pred_test)\n",
    "recall = recall_score(y_test_labels, pred_test)\n",
    "f1 = f1_score(y_test_labels, pred_test)\n",
    "tn, fp, fn, tp = confusion_matrix(y_test_labels, pred_test).ravel()\n",
    "acc = ((tp + tn) / (tp+tn+fp+fn))\n",
    "print(\"Accuracy of Model is:\",acc*100)\n",
    "print(\"Precision of Model is:\",precision * 100)\n",
    "print(\"Recall of Model is:\",recall * 100)\n",
    "print(\"F1 score of Model is:\",f1 * 100)\n"
   ]
  },
  {
   "cell_type": "code",
   "execution_count": 154,
   "metadata": {},
   "outputs": [],
   "source": [
    "cm = confusion_matrix(y_test_labels, pred_test)"
   ]
  },
  {
   "cell_type": "code",
   "execution_count": 168,
   "metadata": {},
   "outputs": [
    {
     "data": {
      "image/png": "[encoded data removed]",
      "text/plain": [
       "<Figure size 576x432 with 2 Axes>"
      ]
     },
     "metadata": {
      "needs_background": "light"
     },
     "output_type": "display_data"
    }
   ],
   "source": [
    "plot_confusion_matrix(cm, \n",
    "                      normalize    = False,\n",
    "                      target_names = ['neg', 'pos'],\n",
    "                      title        = \"Confusion Matrix\")"
   ]
  },
  {
   "cell_type": "code",
   "execution_count": null,
   "metadata": {},
   "outputs": [],
   "source": []
  }
 ],
 "metadata": {
  "kernelspec": {
   "display_name": "Python [conda env:IN4080] *",
   "language": "python",
   "name": "conda-env-IN4080-py"
  },
  "language_info": {
   "codemirror_mode": {
    "name": "ipython",
    "version": 3
   },
   "file_extension": ".py",
   "mimetype": "text/x-python",
   "name": "python",
   "nbconvert_exporter": "python",
   "pygments_lexer": "ipython3",
   "version": "3.7.4"
  }
 },
 "nbformat": 4,
 "nbformat_minor": 2
}
