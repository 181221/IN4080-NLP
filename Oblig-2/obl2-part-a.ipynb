{
 "cells": [
  {
   "cell_type": "markdown",
   "metadata": {},
   "source": [
    "### IN4080 2019, Mandatory assignment 2, part A"
   ]
  },
  {
   "cell_type": "code",
   "execution_count": 1,
   "metadata": {},
   "outputs": [],
   "source": [
    "import nltk\n",
    "import random\n",
    "import numpy as np\n",
    "import scipy as sp\n",
    "import sklearn\n",
    "from sklearn.feature_extraction.text import CountVectorizer\n",
    "from sklearn.feature_extraction import DictVectorizer\n",
    "from sklearn.naive_bayes import MultinomialNB\n",
    "from sklearn.naive_bayes import BernoulliNB\n",
    "from sklearn.linear_model import LogisticRegression\n",
    "import pandas as pd\n",
    "from sklearn.preprocessing import OneHotEncoder\n",
    "from sklearn.preprocessing import LabelEncoder\n",
    "from sklearn.model_selection import train_test_split\n",
    "from sklearn.model_selection import cross_val_score\n",
    "from sklearn.pipeline import Pipeline\n",
    "from sklearn.metrics import precision_score, recall_score, f1_score\n",
    "from sklearn.metrics import confusion_matrix\n",
    "import matplotlib.pyplot as plt\n",
    "from nltk.corpus import movie_reviews\n",
    "from sklearn.feature_extraction.text import TfidfVectorizer\n",
    "import itertools\n"
   ]
  },
  {
   "cell_type": "code",
   "execution_count": 2,
   "metadata": {},
   "outputs": [],
   "source": [
    "def plot_confusion_matrix(cm,\n",
    "                          target_names,\n",
    "                          title='Confusion matrix',\n",
    "                          cmap=None,\n",
    "                          normalize=True):   \n",
    "\n",
    "    accuracy = np.trace(cm) / float(np.sum(cm))\n",
    "    misclass = 1 - accuracy\n",
    "\n",
    "    if cmap is None:\n",
    "        cmap = plt.get_cmap('Blues')\n",
    "\n",
    "    plt.figure(figsize=(8, 6))\n",
    "    plt.imshow(cm, interpolation='nearest', cmap=cmap)\n",
    "    plt.title(title)\n",
    "    plt.colorbar()\n",
    "\n",
    "    if target_names is not None:\n",
    "        tick_marks = np.arange(len(target_names))\n",
    "        plt.xticks(tick_marks, target_names, rotation=45)\n",
    "        plt.yticks(tick_marks, target_names)\n",
    "\n",
    "    if normalize:\n",
    "        cm = cm.astype('float') / cm.sum(axis=1)[:, np.newaxis]\n",
    "\n",
    "\n",
    "    thresh = cm.max() / 1.5 if normalize else cm.max() / 2\n",
    "    for i, j in itertools.product(range(cm.shape[0]), range(cm.shape[1])):\n",
    "        if normalize:\n",
    "            plt.text(j, i, \"{:0.4f}\".format(cm[i, j]),\n",
    "                     horizontalalignment=\"center\",\n",
    "                     color=\"white\" if cm[i, j] > thresh else \"black\")\n",
    "        else:\n",
    "            plt.text(j, i, \"{:,}\".format(cm[i, j]),\n",
    "                     horizontalalignment=\"center\",\n",
    "                     color=\"white\" if cm[i, j] > thresh else \"black\")\n",
    "\n",
    "\n",
    "    plt.tight_layout()\n",
    "    plt.ylabel('True label')\n",
    "    plt.xlabel('Predicted label\\naccuracy={:0.4f}; misclass={:0.4f}'.format(accuracy, misclass))\n",
    "    plt.show()"
   ]
  },
  {
   "cell_type": "markdown",
   "metadata": {},
   "source": [
    "### Ex 1 First classifier"
   ]
  },
  {
   "cell_type": "code",
   "execution_count": 3,
   "metadata": {},
   "outputs": [],
   "source": [
    "def createSets(movie_dev):\n",
    "    X = []\n",
    "    y = []\n",
    "    for movie in movie_dev:\n",
    "        X.append(movie[0])\n",
    "        y.append(movie[1])\n",
    "\n",
    "    label_encoder = LabelEncoder()\n",
    "    y_labels = label_encoder.fit_transform(y)\n",
    "    return X, y"
   ]
  },
  {
   "cell_type": "code",
   "execution_count": 4,
   "metadata": {},
   "outputs": [],
   "source": [
    "raw_movie_docs = [(movie_reviews.raw(fileid), category) for\n",
    "                    category in movie_reviews.categories() for fileid in\n",
    "                    movie_reviews.fileids(category)]"
   ]
  },
  {
   "cell_type": "code",
   "execution_count": 10,
   "metadata": {},
   "outputs": [
    {
     "name": "stdout",
     "output_type": "stream",
     "text": [
      "('the caveman\\'s valentine starring samuel l . jackson , ann magnuson , aunjanue ellis , tamara tunie screenplay by george dawes green , based on his novel directed by kasi lemmons \\n * * * for more film , dvd and books about movie reviews , plus annual coverage of the toronto international film festival , visit _film freak central_ - http : //filmfreakcentral . net \\n| now with search engine * * * \\na strange mixture of _shine_ , _basquiat_ , _angel heart_ , and grant morrison & dave mckean\\'s graphic novel \" arkham asylum \" , _the caveman\\'s valentine_ is a feverish tale of a homeless madman-cum-detective who , on the morning of february 14th , discovers a \" valentine \" just outside his new york cave : one of ella fitzgerald\\'s strange fruit , stuck in the crotch of a tree--a young male model murdered and frozen to a branch . \\nbelieving at first that his imagined nemesis stuyvesant , shooting evil rays into his mind from atop the chrysler building , is responsible for the murder , romulus ( samuel l . jackson ) is put on the trail of an avant-garde photographer in the mapplethorpe mould , david leppenraub ( colm feore ) . \\nhis minor sleuthing interrupted by the occasional delusional fit and bouts with an ecstasy of creation ( romulus was a brilliant julliard-trained pianist prior to his psychosis ) , romulus uncovers clues and harasses suspects on his way to convincing his police-woman daughter ( aunjanue ellis ) that even though he\\'s a nut , that doesn\\'t mean that he can\\'t solve a high-profile society murder . \\nevery moment an exhausting workshop of ideas , and every character the same , _the caveman\\'s valentine_ is a concept so \" high concept \" that it suddenly became clear to me that the film fits into the comic book genre of entertainment , with romulus\\'s \" caveman \" a slightly more mundane version of todd mcfarlane\\'s urban noir hero , spawn . \\nwith a long-vanished wife ( tamara tunie ) acting as a spiritual guide , the occasional social caste commentary , the secret base in a cave , a divergent genius personality with a network of informants and supporters , and a wickedly colourful arch-enemy , the film piles on the lurid comic book details and dizzying slapdash colours to such a lavish extent that i was vaguely surprised that the blue police cars weren\\'t inscribed with \" gotham pd . \" \\nthat being said , _the caveman\\'s valentine_ can only really succeed as a heroic fantasy , a frank miller graphic novel that has the audacity to portray the blood staining a field of virgin snow expanding to form the shape of a heart . \\nthe difficulties with the film spring from the misunderstanding that it somehow adheres to the conventions of a thriller or a police procedural when , in fact , _the caveman\\'s valentine_ is a superhero fable that takes on the cause of the homeless ( again like mcfarlane\\'s spawn ) while attacking the entrenched ruling classes in government and the arts . \\nit is no small detail that our hero , romulus , is not only named for a member of the ruling class who lived his life ( in legend ) without knowledge of his royal birth , but also that our romulus has turned his back on the comforts of the literati in favour of a mystical existence living in a cave in a park . in the romulus mythology , signs of romulus\\' royal blood is brought by twelve vultures , while in the film , the call to action for our hero comes in the form of not the carrion birds , but of the carrion itself . \\nwhether or not romulus of _the caveman\\'s valentine_ will found a nation , or , in the case of novelist george dawes green , upon whose novel his own screenplay is based , a franchise , the fact remains that _the caveman\\'s valentine_ is easily the most misunderstood film of 2001 thus far . \\nit , along with m . night shyamalan\\'s _unbreakable_ , is a mature cinematic extrapolation of the graphic novel format which has , since miller\\'s seminal \" the dark knight returns \" , redefined the comic medium as one suitable for mature ruminations on psychologically sticky topics . \\nreaders of sam keith\\'s brilliant \" the maxx \" comic series ( or of mtv\\'s short-lived animated adaptation of the same ) are already familiar with the idea of a homeless man placed in the position of knight errant and king of his own twisted demesne . \\nthe failure of both \" the maxx \" tv show and of _the caveman\\'s valentine_ ( not forgetting the initial backlash against _unbreakable_ ) suggests that the public may not be ready for america\\'s surprising contributions to dark fantasy . \\nluxuriantly lit , brashly saturated , and comic-panel framed with a virtuoso grace by cinematographer amy vincent ( _death in venice , ca_ ) , while inhabiting robin standefer\\'s ( _practical magic_ ) mesmerizing sets , _the caveman\\'s valentine_ is an unremittingly gorgeous film . \\nkasi lemmons , following up her brilliant 1997 debut , _eve\\'s bayou_ , which played on similar themes of manufactured realities and mysticism , fulfills much of her immense promise with a tale of seraphs and lost boys , artists and suffering . \\n_the caveman\\'s valentine_ is an elegant and piquant expression of hope for justice in a tilted landscape . \\nclearly not for every taste , when approached with the correct paradigm , it is one of the most stunning and intensely fascinating films of the year : a redefinition of the hero archetype for a post-modern audience with urine-stained wool trench coats in place of blue tights and red capes . \\n_the caveman\\'s valentine_ is a fine and a courageous film , crazy enough to suggest that the delirious yammering of an idiot savant is the best and truest paladin of order in the chaos of eliot\\'s rat\\'s alley wasteland . \\n', 'pos')\n"
     ]
    }
   ],
   "source": [
    "random.seed(2920)\n",
    "random.shuffle(raw_movie_docs)\n",
    "movie_test = raw_movie_docs[:200]\n",
    "movie_dev = raw_movie_docs[200:]\n"
   ]
  },
  {
   "cell_type": "code",
   "execution_count": 6,
   "metadata": {},
   "outputs": [],
   "source": [
    "X, labels = createSets(movie_dev)"
   ]
  },
  {
   "cell_type": "code",
   "execution_count": 8,
   "metadata": {},
   "outputs": [
    {
     "data": {
      "text/plain": [
       "'bad . bad . \\nbad . \\nthat one word seems to pretty much sums up beyond the valley of the dolls . \\nif that summary isn\\'t enough for you , how about t&a , t&a , t&a ? \\nstill haven\\'t got the point ? \\nother than director russ meyer\\'s predilection for casting attractive large breasted women who ultimately expose the afore-mentioned anatomical areas , there is really only one other reason to recommend even taking a look at this movie . \\nthat is the fact that it was co-written by famed film critic roger ebert , who also was responsible for the screenplay . \\nafter watching this movie you will never be able to sit through another one of his reviews where he gives a movie a thumbs down for bad writing with a straight face . \\nthis movie stinks out loud . \\nquite frankly , this movie deserves a . \\nbut there are parts of it that are so bad they are almost funny . \\nso i\\'m giving it a . \\nand maybe that is too generous . \\nright from the opening credits , i knew that i had a class-a bomb on my hands . \\nnot only are the way the credits actually shot distracting , but the first scene you see includes a big breasted young woman being chased by a guy in a nazi uniform . \\ni had absolutely no idea why the hell that was happening ( it does get explained later ) and as soon as the first scene is over , we cut to a completely unrelated scene . \\nto be honest , as i sat through this movie mesmerized by just how incredibly awful it was , i actually forgot about the seemingly out of place opening until it popped up again later in the film . \\nwith the quality of the writing during the rest of the film , it wouldn\\'t have surprised me if the opening had never been explained . \\nso what is this movie about ? \\nyou ask . \\nlike it really matters . \\nok , here goes . \\nthis all-girl band headed by kelly macnamara ( dolly reed ) and her friends go to hollywood to try to gain a foothold in the music industry . \\nonce there , they do manage to find success ( due as much to their hooters as anything else ? it sure wasn\\'t for their brutally bad singing voices ) , and the movie chronicles how their lives change for the worse as the pressures of fame get to them . \\neverything from big egos , to booze and drugs to free flowing sex sends them on a downward spiral . \\nthere are a couple of other idiotic subplots thrown in for good measure , but the fame is the one that pretty much sums up this thing . \\n>from a creative standpoint there is nothing redeeming here . \\nother than the above-mentioned obsession with big knockers that russ meyer seemed to have . \\nthe dialogue is so incredibly bad that it literally is funny in parts . \\nmr . ebert has generously thrown in helpings of \" hey man \" , \" dig \" and my all time favorite -- \" this is my happening , and it freaks me out \" . \\nnow i ask you , with lines like that how can you go wrong ? \\nebert had tried to inject as many big words as possible into the dialogue . \\nmaybe he thought it would make the movie seem smarter . \\ni don\\'t know , but all the big words in the world wouldn\\'t be able to disguise the bad writing and even worse acting . \\nbut the wretched dialogue goes along well with the wretched quality of everything else in this movie . \\ni\\'ve seen home movies directed better than meyer managed with this turkey . \\nin fact , there is one scene -- the one in which they are in a van driving to hollywood to make their fortunes -- during which i really had to question if meyer or his editors had just suffered serious head injuries . \\nadd to the directing and writing the music in this movie . \\ni almost got up to check my sound system to see if it was broken , there was such a pile of crap emanating from the speakers . \\nthen we have the cast . \\nfirst lets start david gurian who played harris , the manager of the band . \\nthis has got to be the goofiest looking guy that has ever set foot in front of a motion picture camera . \\nsadly , his acting doesn\\'t come close to making up for his looks . \\nif you have been following along up to this point , this shouldn\\'t surprise you . \\nmeyer\\'s stable of well endowed girls also have the benefit of being fairly attractive to go along with their other assets . \\ndolly reed plays kelly , the leader of the band . \\nand no surprise here , she was cast for her cup size , not her talents . \\nand yes , she does loose the shirt a few times and display her impressive talents . \\nsadly , her ass is almost as large as her chest . \\nhey , it a sexist movie , so i\\'m writing a sexist review . \\nthen we have former playboy playmate cynthia myers in a fairly small role as casey , one of the other band members . \\nthis goes along with the rest of the idiotic thinking in the movie . \\nmeyer casts a gorgeous playmate with a rack to kill for and who obviously has no acting talent at all , but her nude scenes are the biggest disappointment of all . \\nsure russ , now is the time to get artsy and throw in some well placed shadows . \\non the up side , she does have a fun lesbo scene . \\ni sound like i\\'m writing a review in a porn magazine . \\nbut hey , i\\'ll admit it ; the only reason that i actually managed to sit through this damn movie was to catch a look at cynthia myers naked . \\nand since that was a huge disappointment , i pretty much wasted two hours of my life on this turkey . \\nthe only thing that i can say about this movie is that you should stay away from it . \\nunless of course you want to feel good about yourself by knowing that even a pulitzer prize winning film critic like roger ebert has screwed up at least once in his life too . \\nand if you are thinking of checking it out for the double d\\'s -- you are better off just downloading nude cynthia myers pictures off the internet . \\nthis is a movie that should be avoided at all costs . \\nan even better idea might be to require video stores to place a warning on the box of beyond the valley of the dolls -- beware : this movie is extremely hazardous to your common sense . \\nproceed with extreme caution . \\n'"
      ]
     },
     "execution_count": 8,
     "metadata": {},
     "output_type": "execute_result"
    }
   ],
   "source": []
  },
  {
   "cell_type": "code",
   "execution_count": 7,
   "metadata": {},
   "outputs": [],
   "source": [
    "X_train, X_validation, Y_train, Y_validation = train_test_split(X, labels, test_size=0.125, random_state=42)"
   ]
  },
  {
   "cell_type": "code",
   "execution_count": 8,
   "metadata": {},
   "outputs": [],
   "source": [
    "v = CountVectorizer()\n",
    "v.fit(X_train)\n",
    "\n",
    "X_train_vectors = v.transform(X_train)\n",
    "X_val_vectors = v.transform(X_validation)"
   ]
  },
  {
   "cell_type": "code",
   "execution_count": 9,
   "metadata": {},
   "outputs": [
    {
     "data": {
      "text/plain": [
       "MultinomialNB(alpha=1.0, class_prior=None, fit_prior=True)"
      ]
     },
     "execution_count": 9,
     "metadata": {},
     "output_type": "execute_result"
    }
   ],
   "source": [
    "clf = MultinomialNB()\n",
    "clf.fit(X_train_vectors, Y_train)"
   ]
  },
  {
   "cell_type": "code",
   "execution_count": 10,
   "metadata": {},
   "outputs": [],
   "source": [
    "pred = clf.predict(X_val_vectors)"
   ]
  },
  {
   "cell_type": "code",
   "execution_count": 11,
   "metadata": {},
   "outputs": [
    {
     "data": {
      "text/plain": [
       "0.8222222222222222"
      ]
     },
     "execution_count": 11,
     "metadata": {},
     "output_type": "execute_result"
    }
   ],
   "source": [
    "clf.score(X_val_vectors, Y_validation)"
   ]
  },
  {
   "cell_type": "code",
   "execution_count": 12,
   "metadata": {},
   "outputs": [],
   "source": [
    "f1 = f1_score(pred, Y_validation, labels=['neg','pos'], average='micro')\n",
    "cm = confusion_matrix(Y_validation, pred)"
   ]
  },
  {
   "cell_type": "code",
   "execution_count": 13,
   "metadata": {},
   "outputs": [
    {
     "data": {
      "image/png": "[encoded data removed]",
      "text/plain": [
       "<Figure size 576x432 with 2 Axes>"
      ]
     },
     "metadata": {
      "needs_background": "light"
     },
     "output_type": "display_data"
    }
   ],
   "source": [
    "plot_confusion_matrix(cm, \n",
    "                      normalize    = False,\n",
    "                      target_names = ['neg', 'pos'],\n",
    "                      title        = \"Confusion Matrix\")"
   ]
  },
  {
   "cell_type": "code",
   "execution_count": 14,
   "metadata": {},
   "outputs": [],
   "source": [
    "def multi_nb_exp(X, y):\n",
    "    text_clf = Pipeline([\n",
    "                         ('vect', CountVectorizer()),\n",
    "                         ('clf', MultinomialNB())])\n",
    "    X_train, X_validation, Y_train, Y_validation = train_test_split(X, y, test_size=0.125, random_state=42)\n",
    "    text_clf.fit(X_train, Y_train)\n",
    "    predicted = text_clf.predict(X_validation)\n",
    "    acc = text_clf.score(X_validation, Y_validation) \n",
    "    return acc, predicted "
   ]
  },
  {
   "cell_type": "code",
   "execution_count": 15,
   "metadata": {},
   "outputs": [
    {
     "name": "stdout",
     "output_type": "stream",
     "text": [
      "0.8222222222222222\n",
      "CPU times: user 1.92 s, sys: 13.7 ms, total: 1.94 s\n",
      "Wall time: 776 ms\n"
     ]
    }
   ],
   "source": [
    "%%time\n",
    "(acc, pred) = multi_nb_exp(X, labels)\n",
    "print(acc)"
   ]
  },
  {
   "cell_type": "code",
   "execution_count": 16,
   "metadata": {},
   "outputs": [
    {
     "name": "stdout",
     "output_type": "stream",
     "text": [
      "Accuracy of Model with Cross Validation is: 81.33396807142401\n"
     ]
    }
   ],
   "source": [
    "def n_fold(clf, x, y, n=9):\n",
    "    acc = cross_val_score(clf, x, y, cv=n, n_jobs=-1) # same as using K-fold with splits.\n",
    "    return acc\n",
    "\n",
    "text_clf = Pipeline([\n",
    "                     ('vect', CountVectorizer()),\n",
    "                     ('clf', MultinomialNB())])\n",
    "\n",
    "acc = n_fold(text_clf, X, labels)\n",
    "#get the mean of each fold \n",
    "print(\"Accuracy of Model with Cross Validation is:\",acc.mean() * 100)"
   ]
  },
  {
   "cell_type": "code",
   "execution_count": 17,
   "metadata": {},
   "outputs": [],
   "source": [
    "def scores(model, X_validation, Y_validation):\n",
    "    predicted = model.predict(X_validation)\n",
    "    precision = precision_score(Y_validation, predicted)\n",
    "    recall = recall_score(Y_validation, predicted)\n",
    "    f1 = f1_score(Y_validation, predicted)\n",
    "    print(\"Precision of Modelis:\",precision * 100)\n",
    "    print(\"Recall of Model is:\",recall * 100)\n",
    "    print(\"F1 score of Model is:\",f1 * 100)\n",
    "    return f1, precision, recall"
   ]
  },
  {
   "cell_type": "code",
   "execution_count": null,
   "metadata": {},
   "outputs": [],
   "source": []
  },
  {
   "cell_type": "markdown",
   "metadata": {},
   "source": [
    "### 1.2 Ex 2 Parameters of the vectorizer \n",
    "[False, True] and ngram_range vary over [[1,1], [1,2], [1,3]].\n",
    "Run the experiment with 9-fold cross-validation and report the accuracy with the 6 different settings."
   ]
  },
  {
   "cell_type": "code",
   "execution_count": 18,
   "metadata": {},
   "outputs": [
    {
     "data": {
      "text/html": [
       "<div>\n",
       "<style scoped>\n",
       "    .dataframe tbody tr th:only-of-type {\n",
       "        vertical-align: middle;\n",
       "    }\n",
       "\n",
       "    .dataframe tbody tr th {\n",
       "        vertical-align: top;\n",
       "    }\n",
       "\n",
       "    .dataframe thead th {\n",
       "        text-align: right;\n",
       "    }\n",
       "</style>\n",
       "<table border=\"1\" class=\"dataframe\">\n",
       "  <thead>\n",
       "    <tr style=\"text-align: right;\">\n",
       "      <th></th>\n",
       "      <th>(1,1)</th>\n",
       "      <th>(1,2)</th>\n",
       "      <th>(1,3)</th>\n",
       "    </tr>\n",
       "  </thead>\n",
       "  <tbody>\n",
       "    <tr>\n",
       "      <td>True</td>\n",
       "      <td>82.337017</td>\n",
       "      <td>85.615942</td>\n",
       "      <td>85.113711</td>\n",
       "    </tr>\n",
       "    <tr>\n",
       "      <td>False</td>\n",
       "      <td>81.333968</td>\n",
       "      <td>83.225367</td>\n",
       "      <td>82.557301</td>\n",
       "    </tr>\n",
       "  </tbody>\n",
       "</table>\n",
       "</div>"
      ],
      "text/plain": [
       "           (1,1)      (1,2)      (1,3)\n",
       "True   82.337017  85.615942  85.113711\n",
       "False  81.333968  83.225367  82.557301"
      ]
     },
     "execution_count": 18,
     "metadata": {},
     "output_type": "execute_result"
    }
   ],
   "source": [
    "def arg_experiment():\n",
    "    k = [True, False]\n",
    "    ngram_range_results = []\n",
    "    ngram_range = [(1,1), (1,2),(1,3)]\n",
    "\n",
    "    results = []\n",
    "    for binary in k:\n",
    "        liste = []\n",
    "        for ngram in ngram_range:\n",
    "            count_experiment_clf = Pipeline([\n",
    "                             ('vect', CountVectorizer(ngram_range=ngram, binary=binary)),\n",
    "                             ('clf', MultinomialNB())])\n",
    "            acc = cross_val_score(count_experiment_clf, X, labels, cv=9, n_jobs=-1)\n",
    "\n",
    "            liste.append(acc.mean() * 100)\n",
    "        ngram_range_results.append(liste)\n",
    "\n",
    "    df = pd.DataFrame(ngram_range_results, index=['True','False'], columns=['(1,1)','(1,2)','(1,3)'])\n",
    "    return df\n",
    "df = arg_experiment()\n",
    "df"
   ]
  },
  {
   "cell_type": "markdown",
   "metadata": {},
   "source": [
    "True and ngram_range(1,2) gives the best results."
   ]
  },
  {
   "cell_type": "markdown",
   "metadata": {},
   "source": [
    "## Ex 3  Logistic Regression"
   ]
  },
  {
   "cell_type": "code",
   "execution_count": 19,
   "metadata": {},
   "outputs": [
    {
     "name": "stdout",
     "output_type": "stream",
     "text": [
      "The average accuracy of Model with Cross Validation is: 83.33925570361482\n"
     ]
    }
   ],
   "source": [
    "from warnings import simplefilter\n",
    "# ignore all future warnings\n",
    "simplefilter(action='ignore', category=FutureWarning)\n",
    "\n",
    "log_reg_clf = Pipeline([\n",
    "     ('vect', CountVectorizer()),\n",
    "     ('clf', LogisticRegression())])\n",
    "\n",
    "acc = cross_val_score(log_reg_clf, X, labels, cv=9, n_jobs=-1)\n",
    "print(\"The average accuracy of Model with Cross Validation is:\",acc.mean() * 100)"
   ]
  },
  {
   "cell_type": "code",
   "execution_count": 20,
   "metadata": {},
   "outputs": [
    {
     "name": "stdout",
     "output_type": "stream",
     "text": [
      "Accuracy of Model with Cross Validation is: 83.33925570361482\n"
     ]
    }
   ],
   "source": [
    "def logistic_reg():\n",
    "    from warnings import simplefilter\n",
    "    # ignore all future warnings\n",
    "    simplefilter(action='ignore', category=FutureWarning)\n",
    "\n",
    "    log_reg_clf = Pipeline([\n",
    "         ('vect', CountVectorizer()),\n",
    "         ('clf', LogisticRegression())])\n",
    "\n",
    "    acc = cross_val_score(log_reg_clf, X, labels, cv=9, n_jobs=-1)\n",
    "    return acc\n",
    "\n",
    "acc = logistic_reg()\n",
    "print(\"Accuracy of Model with Cross Validation is:\",acc.mean() * 100)"
   ]
  },
  {
   "cell_type": "markdown",
   "metadata": {},
   "source": [
    "### Ex 4 The Bernoulli model "
   ]
  },
  {
   "cell_type": "code",
   "execution_count": 21,
   "metadata": {},
   "outputs": [],
   "source": [
    "all_words = nltk.FreqDist(w.lower() for w in movie_reviews.words())\n",
    "def document_features(document,n):\n",
    "    word_features = list(all_words)[:n]\n",
    "    document_words = set(document)\n",
    "    features = {}\n",
    "    for word in word_features:\n",
    "        features[word] = (word in document_words)\n",
    "    return features"
   ]
  },
  {
   "cell_type": "code",
   "execution_count": 22,
   "metadata": {},
   "outputs": [],
   "source": [
    "documents = [(list(movie_reviews.words(fileid)), category)\n",
    "             for category in movie_reviews.categories()\n",
    "             for fileid in movie_reviews.fileids(category)]\n",
    "\n",
    "random.shuffle(documents)"
   ]
  },
  {
   "cell_type": "code",
   "execution_count": 23,
   "metadata": {},
   "outputs": [],
   "source": [
    "feature_set = [(document_features(doc,2000), category) for (doc, category) in documents]"
   ]
  },
  {
   "cell_type": "code",
   "execution_count": 24,
   "metadata": {},
   "outputs": [],
   "source": [
    "movie_feat_test = feature_set[:200]\n",
    "movie_feat_dev = feature_set[200:]\n",
    "\n",
    "x, y = createSets(movie_feat_dev)"
   ]
  },
  {
   "cell_type": "code",
   "execution_count": 25,
   "metadata": {},
   "outputs": [],
   "source": [
    "ber_clf = Pipeline([\n",
    "     ('dict_vect', DictVectorizer()),\n",
    "     ('clf', BernoulliNB())])"
   ]
  },
  {
   "cell_type": "code",
   "execution_count": 26,
   "metadata": {},
   "outputs": [
    {
     "name": "stdout",
     "output_type": "stream",
     "text": [
      "Accuracy of Model with Cross Validation is: 79.27777777777779\n"
     ]
    }
   ],
   "source": [
    "acc = cross_val_score(ber_clf, x, y, cv=9, n_jobs=-1) \n",
    "print(\"Accuracy of Model with Cross Validation is:\",acc.mean() * 100)"
   ]
  },
  {
   "cell_type": "markdown",
   "metadata": {},
   "source": [
    "### Ex 5 Logistic regression"
   ]
  },
  {
   "cell_type": "code",
   "execution_count": 27,
   "metadata": {},
   "outputs": [],
   "source": [
    "def freq_experiment(pipeline, n):\n",
    "    feat_set = [(document_features(doc,n), category) for (doc, category) in documents]\n",
    "    movie_feat_test = feat_set[:200]\n",
    "    dev = feat_set[200:]\n",
    "    x, y = createSets(dev)\n",
    "    acc = cross_val_score(pipeline, x, y, cv=9, n_jobs=-1) \n",
    "    return acc"
   ]
  },
  {
   "cell_type": "code",
   "execution_count": 28,
   "metadata": {},
   "outputs": [],
   "source": [
    "def log_clf_freq_experiment(n):\n",
    "    log_clf = Pipeline([\n",
    "         ('vect', DictVectorizer()),\n",
    "         ('clf', LogisticRegression(n_jobs=-1))])\n",
    "    log_clf_freq = []\n",
    "    for i in n:\n",
    "        acc = freq_experiment(log_clf, i)\n",
    "        log_clf_freq.append(acc)\n",
    "    return log_clf_freq\n",
    "\n",
    "def ber_clf_experiment(n):\n",
    "    ber_clf = Pipeline([\n",
    "     ('dict_vect', DictVectorizer()),\n",
    "     ('clf', BernoulliNB())])\n",
    "    ber_clf_freq = []\n",
    "    for i in n:\n",
    "        acc = freq_experiment(ber_clf, i)\n",
    "        ber_clf_freq.append(acc)\n",
    "    return ber_clf_freq"
   ]
  },
  {
   "cell_type": "code",
   "execution_count": 29,
   "metadata": {},
   "outputs": [
    {
     "data": {
      "text/html": [
       "<div>\n",
       "<style scoped>\n",
       "    .dataframe tbody tr th:only-of-type {\n",
       "        vertical-align: middle;\n",
       "    }\n",
       "\n",
       "    .dataframe tbody tr th {\n",
       "        vertical-align: top;\n",
       "    }\n",
       "\n",
       "    .dataframe thead th {\n",
       "        text-align: right;\n",
       "    }\n",
       "</style>\n",
       "<table border=\"1\" class=\"dataframe\">\n",
       "  <thead>\n",
       "    <tr style=\"text-align: right;\">\n",
       "      <th></th>\n",
       "      <th>1000</th>\n",
       "      <th>2000</th>\n",
       "      <th>3000</th>\n",
       "      <th>4000</th>\n",
       "      <th>5000</th>\n",
       "    </tr>\n",
       "  </thead>\n",
       "  <tbody>\n",
       "    <tr>\n",
       "      <td>LogisticRegression</td>\n",
       "      <td>75.111111</td>\n",
       "      <td>78.666667</td>\n",
       "      <td>80.444444</td>\n",
       "      <td>82.055556</td>\n",
       "      <td>83.222222</td>\n",
       "    </tr>\n",
       "    <tr>\n",
       "      <td>BernoulliNB</td>\n",
       "      <td>76.888889</td>\n",
       "      <td>79.277778</td>\n",
       "      <td>79.944444</td>\n",
       "      <td>80.333333</td>\n",
       "      <td>81.222222</td>\n",
       "    </tr>\n",
       "  </tbody>\n",
       "</table>\n",
       "</div>"
      ],
      "text/plain": [
       "                         1000       2000       3000       4000       5000\n",
       "LogisticRegression  75.111111  78.666667  80.444444  82.055556  83.222222\n",
       "BernoulliNB         76.888889  79.277778  79.944444  80.333333  81.222222"
      ]
     },
     "execution_count": 29,
     "metadata": {},
     "output_type": "execute_result"
    }
   ],
   "source": [
    "def ex5_partb():\n",
    "    n = [1000, 2000, 3000, 4000, 5000]\n",
    "    accs_log = log_clf_freq_experiment(n)\n",
    "    accs_ber = ber_clf_experiment(n)\n",
    "    dict1 = {}\n",
    "    for i in range(len(accs_ber)):\n",
    "        dict1[str(n[i])] = [accs_log[i].mean()*100, accs_ber[i].mean()*100]\n",
    "\n",
    "    df = pd.DataFrame(dict1) \n",
    "    df.index = ['LogisticRegression', 'BernoulliNB'] \n",
    "    return df\n",
    "df = ex5_partb()\n",
    "df"
   ]
  },
  {
   "cell_type": "markdown",
   "metadata": {},
   "source": [
    "### Bringing on the test set and the best model\n",
    "Exercise 6"
   ]
  },
  {
   "cell_type": "code",
   "execution_count": 30,
   "metadata": {},
   "outputs": [],
   "source": [
    "feat_set = [(document_features(doc,5000), category) for (doc, category) in raw_movie_docs]"
   ]
  },
  {
   "cell_type": "code",
   "execution_count": 37,
   "metadata": {},
   "outputs": [],
   "source": [
    "log_reg_clf = Pipeline([\n",
    "     ('vect', CountVectorizer(ngram_range=(1,2), binary=True)),\n",
    "     ('clf', LogisticRegression(n_jobs=-1, solver='lbfgs'))])"
   ]
  },
  {
   "cell_type": "code",
   "execution_count": 38,
   "metadata": {},
   "outputs": [
    {
     "data": {
      "text/plain": [
       "Pipeline(memory=None,\n",
       "         steps=[('vect',\n",
       "                 CountVectorizer(analyzer='word', binary=True,\n",
       "                                 decode_error='strict',\n",
       "                                 dtype=<class 'numpy.int64'>, encoding='utf-8',\n",
       "                                 input='content', lowercase=True, max_df=1.0,\n",
       "                                 max_features=None, min_df=1,\n",
       "                                 ngram_range=(1, 2), preprocessor=None,\n",
       "                                 stop_words=None, strip_accents=None,\n",
       "                                 token_pattern='(?u)\\\\b\\\\w\\\\w+\\\\b',\n",
       "                                 tokenizer=None, vocabulary=None)),\n",
       "                ('clf',\n",
       "                 LogisticRegression(C=1.0, class_weight=None, dual=False,\n",
       "                                    fit_intercept=True, intercept_scaling=1,\n",
       "                                    l1_ratio=None, max_iter=100,\n",
       "                                    multi_class='warn', n_jobs=-1, penalty='l2',\n",
       "                                    random_state=None, solver='lbfgs',\n",
       "                                    tol=0.0001, verbose=0, warm_start=False))],\n",
       "         verbose=False)"
      ]
     },
     "execution_count": 38,
     "metadata": {},
     "output_type": "execute_result"
    }
   ],
   "source": [
    "#X, y = createSets(feat_set)\n",
    "log_reg_clf.fit(X, labels)"
   ]
  },
  {
   "cell_type": "code",
   "execution_count": 39,
   "metadata": {},
   "outputs": [],
   "source": [
    "# prepareing movie_test set\n",
    "y_test = []\n",
    "X_test = []\n",
    "for movie in movie_test:\n",
    "    X_test.append(movie[0])\n",
    "    y_test.append(movie[1])\n",
    "\n",
    "label_encoder = LabelEncoder()\n",
    "y_test_labels = label_encoder.fit_transform(y_test)"
   ]
  },
  {
   "cell_type": "code",
   "execution_count": 40,
   "metadata": {},
   "outputs": [],
   "source": [
    "pred_test = log_reg_clf.predict(X_test)\n",
    "pred_test = label_encoder.fit_transform(pred_test)"
   ]
  },
  {
   "cell_type": "code",
   "execution_count": 41,
   "metadata": {},
   "outputs": [
    {
     "name": "stdout",
     "output_type": "stream",
     "text": [
      "Accuracy of Model is: 88.0\n",
      "Precision of Model is: 92.3913043478261\n",
      "Recall of Model is: 83.33333333333334\n",
      "F1 score of Model is: 87.62886597938144\n"
     ]
    }
   ],
   "source": [
    "precision = precision_score(y_test_labels, pred_test)\n",
    "recall = recall_score(y_test_labels, pred_test)\n",
    "f1 = f1_score(y_test_labels, pred_test)\n",
    "tn, fp, fn, tp = confusion_matrix(y_test_labels, pred_test).ravel()\n",
    "acc = ((tp + tn) / (tp+tn+fp+fn))\n",
    "print(\"Accuracy of Model is:\",acc*100)\n",
    "print(\"Precision of Model is:\",precision * 100)\n",
    "print(\"Recall of Model is:\",recall * 100)\n",
    "print(\"F1 score of Model is:\",f1 * 100)\n"
   ]
  },
  {
   "cell_type": "markdown",
   "metadata": {},
   "source": [
    "The best classifier is LogisticRegression with tweeked settings for countVectorizer. I also tried tf-idf but I did not get any better results."
   ]
  },
  {
   "cell_type": "code",
   "execution_count": 42,
   "metadata": {},
   "outputs": [],
   "source": [
    "cm = confusion_matrix(y_test_labels, pred_test)"
   ]
  },
  {
   "cell_type": "code",
   "execution_count": 43,
   "metadata": {},
   "outputs": [
    {
     "data": {
      "image/png": "[encoded data removed]",
      "text/plain": [
       "<Figure size 576x432 with 2 Axes>"
      ]
     },
     "metadata": {
      "needs_background": "light"
     },
     "output_type": "display_data"
    }
   ],
   "source": [
    "plot_confusion_matrix(cm, \n",
    "                      normalize    = False,\n",
    "                      target_names = ['neg', 'pos'],\n",
    "                      title        = \"Confusion Matrix\")"
   ]
  },
  {
   "cell_type": "code",
   "execution_count": null,
   "metadata": {},
   "outputs": [],
   "source": []
  }
 ],
 "metadata": {
  "kernelspec": {
   "display_name": "Python [conda env:IN4080] *",
   "language": "python",
   "name": "conda-env-IN4080-py"
  },
  "language_info": {
   "codemirror_mode": {
    "name": "ipython",
    "version": 3
   },
   "file_extension": ".py",
   "mimetype": "text/x-python",
   "name": "python",
   "nbconvert_exporter": "python",
   "pygments_lexer": "ipython3",
   "version": "3.7.4"
  }
 },
 "nbformat": 4,
 "nbformat_minor": 2
}
