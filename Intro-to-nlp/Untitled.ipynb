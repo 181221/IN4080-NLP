{
 "cells": [
  {
   "cell_type": "code",
   "execution_count": 1,
   "metadata": {},
   "outputs": [],
   "source": [
    "import nltk"
   ]
  },
  {
   "cell_type": "code",
   "execution_count": 3,
   "metadata": {},
   "outputs": [],
   "source": [
    "from nltk.corpus import brown\n",
    "uni_tag_words = [x for x in brown.tagged_words(tagset='universial')]"
   ]
  },
  {
   "cell_type": "code",
   "execution_count": 4,
   "metadata": {},
   "outputs": [
    {
     "data": {
      "text/plain": [
       "[('The', 'UNK'),\n",
       " ('Fulton', 'UNK'),\n",
       " ('County', 'UNK'),\n",
       " ('Grand', 'UNK'),\n",
       " ('Jury', 'UNK'),\n",
       " ('said', 'UNK'),\n",
       " ('Friday', 'UNK'),\n",
       " ('an', 'UNK'),\n",
       " ('investigation', 'UNK'),\n",
       " ('of', 'UNK'),\n",
       " (\"Atlanta's\", 'UNK'),\n",
       " ('recent', 'UNK'),\n",
       " ('primary', 'UNK'),\n",
       " ('election', 'UNK'),\n",
       " ('produced', 'UNK'),\n",
       " ('``', 'UNK'),\n",
       " ('no', 'UNK'),\n",
       " ('evidence', 'UNK'),\n",
       " (\"''\", 'UNK'),\n",
       " ('that', 'UNK')]"
      ]
     },
     "execution_count": 4,
     "metadata": {},
     "output_type": "execute_result"
    }
   ],
   "source": [
    "uni_tag_words[:20]"
   ]
  },
  {
   "cell_type": "code",
   "execution_count": 9,
   "metadata": {},
   "outputs": [],
   "source": [
    "tag_freq = nltk.FreqDist([t for (w,t) in uni_tag_words])"
   ]
  },
  {
   "cell_type": "code",
   "execution_count": 10,
   "metadata": {},
   "outputs": [
    {
     "name": "stdout",
     "output_type": "stream",
     "text": [
      "UNK 1161192\n"
     ]
    }
   ],
   "source": [
    "for i in tag_freq: print(i, tag_freq[i])"
   ]
  },
  {
   "cell_type": "code",
   "execution_count": null,
   "metadata": {},
   "outputs": [],
   "source": []
  }
 ],
 "metadata": {
  "kernelspec": {
   "display_name": "Python [conda env:IN4080] *",
   "language": "python",
   "name": "conda-env-IN4080-py"
  },
  "language_info": {
   "codemirror_mode": {
    "name": "ipython",
    "version": 3
   },
   "file_extension": ".py",
   "mimetype": "text/x-python",
   "name": "python",
   "nbconvert_exporter": "python",
   "pygments_lexer": "ipython3",
   "version": "3.7.4"
  }
 },
 "nbformat": 4,
 "nbformat_minor": 2
}
